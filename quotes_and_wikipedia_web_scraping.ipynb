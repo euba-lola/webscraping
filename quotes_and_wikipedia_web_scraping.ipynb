{
 "cells": [
  {
   "cell_type": "code",
   "execution_count": null,
   "id": "cf4a9b51-a2a7-46ce-b88e-dd528d313f73",
   "metadata": {},
   "outputs": [],
   "source": [
    "QUOTES SCRAPING"
   ]
  },
  {
   "cell_type": "code",
   "execution_count": 13,
   "id": "88954f96-2aa0-4da1-99ea-ab03714aee06",
   "metadata": {},
   "outputs": [],
   "source": [
    "#import libraries\n",
    "\n",
    "import pandas as pd\n",
    "import numpy as np\n",
    "from bs4 import BeautifulSoup\n",
    "import requests"
   ]
  },
  {
   "cell_type": "code",
   "execution_count": 14,
   "id": "43247896-4190-4839-89ca-176d49031296",
   "metadata": {},
   "outputs": [
    {
     "data": {
      "text/plain": [
       "'https://quotes.toscrape.com/'"
      ]
     },
     "execution_count": 14,
     "metadata": {},
     "output_type": "execute_result"
    }
   ],
   "source": [
    "#paste url\n",
    "\n",
    "url = 'https://quotes.toscrape.com/'\n",
    "url"
   ]
  },
  {
   "cell_type": "code",
   "execution_count": 15,
   "id": "f9e5074a-f582-47fe-bcf5-93b9b68bc990",
   "metadata": {},
   "outputs": [],
   "source": [
    "response = requests.get(url)"
   ]
  },
  {
   "cell_type": "code",
   "execution_count": 16,
   "id": "d6597858-80c3-41d1-94a9-d527fa3bf6ad",
   "metadata": {},
   "outputs": [
    {
     "data": {
      "text/plain": [
       "<Response [200]>"
      ]
     },
     "execution_count": 16,
     "metadata": {},
     "output_type": "execute_result"
    }
   ],
   "source": [
    "response"
   ]
  },
  {
   "cell_type": "code",
   "execution_count": 17,
   "id": "f83a0fa1-83ee-4b09-97f7-0fd97382a551",
   "metadata": {},
   "outputs": [],
   "source": [
    "body = response.content"
   ]
  },
  {
   "cell_type": "code",
   "execution_count": 18,
   "id": "acdd173a-bbf0-43e2-86a9-09c60d94aa22",
   "metadata": {},
   "outputs": [],
   "source": [
    "soup = BeautifulSoup(body, 'html.parser')"
   ]
  },
  {
   "cell_type": "code",
   "execution_count": null,
   "id": "2921a5c6-6b5a-475a-b9e5-538f6572de62",
   "metadata": {},
   "outputs": [],
   "source": [
    "#paste path\n",
    "\n",
    "<span class=\"text\" itemprop=\"text\">“The world as we have created it is a process of our thinking. It cannot be changed without changing our thinking.”</span>"
   ]
  },
  {
   "cell_type": "code",
   "execution_count": 19,
   "id": "2c1deb56-6c98-40d8-81c1-73d920006f89",
   "metadata": {},
   "outputs": [],
   "source": [
    "quotes = soup.find_all('span', class_=\"text\")"
   ]
  },
  {
   "cell_type": "code",
   "execution_count": 20,
   "id": "2122f88f-3c4b-4418-839f-08babb86f209",
   "metadata": {},
   "outputs": [
    {
     "data": {
      "text/plain": [
       "['“The world as we have created it is a process of our thinking. It cannot be changed without changing our thinking.”',\n",
       " '“It is our choices, Harry, that show what we truly are, far more than our abilities.”',\n",
       " '“There are only two ways to live your life. One is as though nothing is a miracle. The other is as though everything is a miracle.”',\n",
       " '“The person, be it gentleman or lady, who has not pleasure in a good novel, must be intolerably stupid.”',\n",
       " \"“Imperfection is beauty, madness is genius and it's better to be absolutely ridiculous than absolutely boring.”\",\n",
       " '“Try not to become a man of success. Rather become a man of value.”',\n",
       " '“It is better to be hated for what you are than to be loved for what you are not.”',\n",
       " \"“I have not failed. I've just found 10,000 ways that won't work.”\",\n",
       " \"“A woman is like a tea bag; you never know how strong it is until it's in hot water.”\",\n",
       " '“A day without sunshine is like, you know, night.”']"
      ]
     },
     "execution_count": 20,
     "metadata": {},
     "output_type": "execute_result"
    }
   ],
   "source": [
    "#to get all quotes\n",
    "quotes_s = []\n",
    "\n",
    "for quote in quotes:\n",
    "    text = quote.get_text(strip = True)\n",
    "    quotes_s.append(text)\n",
    "quotes_s"
   ]
  },
  {
   "cell_type": "code",
   "execution_count": 21,
   "id": "0563943b-79f9-436f-b568-d6dc35566add",
   "metadata": {},
   "outputs": [
    {
     "name": "stdout",
     "output_type": "stream",
     "text": [
      "1,“The world as we have created it is a process of our thinking. It cannot be changed without changing our thinking.”\n",
      "2,“It is our choices, Harry, that show what we truly are, far more than our abilities.”\n",
      "3,“There are only two ways to live your life. One is as though nothing is a miracle. The other is as though everything is a miracle.”\n",
      "4,“The person, be it gentleman or lady, who has not pleasure in a good novel, must be intolerably stupid.”\n",
      "5,“Imperfection is beauty, madness is genius and it's better to be absolutely ridiculous than absolutely boring.”\n",
      "6,“Try not to become a man of success. Rather become a man of value.”\n",
      "7,“It is better to be hated for what you are than to be loved for what you are not.”\n",
      "8,“I have not failed. I've just found 10,000 ways that won't work.”\n",
      "9,“A woman is like a tea bag; you never know how strong it is until it's in hot water.”\n",
      "10,“A day without sunshine is like, you know, night.”\n"
     ]
    }
   ],
   "source": [
    "# to enumerate\n",
    "for i, desc in enumerate(quotes_s, start=1):\n",
    "    print(f\"{i},{desc}\")"
   ]
  },
  {
   "cell_type": "code",
   "execution_count": null,
   "id": "a492721f-f4e6-45e8-82ae-22b07a69dae4",
   "metadata": {},
   "outputs": [],
   "source": [
    "#paste html\n",
    "<small class=\"author\" itemprop=\"author\">Albert Einstein</small>"
   ]
  },
  {
   "cell_type": "code",
   "execution_count": 23,
   "id": "95ff9f4b-89d4-4fa3-a4dc-50f770faf218",
   "metadata": {},
   "outputs": [],
   "source": [
    "# for author's name \n",
    "\n",
    "authors_name = soup.find_all('small', class_=\"author\")"
   ]
  },
  {
   "cell_type": "code",
   "execution_count": 24,
   "id": "bc77d120-fdf3-46fb-b65e-3f6ae2173aa1",
   "metadata": {},
   "outputs": [
    {
     "data": {
      "text/plain": [
       "['Albert Einstein',\n",
       " 'J.K. Rowling',\n",
       " 'Albert Einstein',\n",
       " 'Jane Austen',\n",
       " 'Marilyn Monroe',\n",
       " 'Albert Einstein',\n",
       " 'André Gide',\n",
       " 'Thomas A. Edison',\n",
       " 'Eleanor Roosevelt',\n",
       " 'Steve Martin']"
      ]
     },
     "execution_count": 24,
     "metadata": {},
     "output_type": "execute_result"
    }
   ],
   "source": [
    "#to get the findall authors\n",
    "\n",
    "authors = []\n",
    "for author in authors_name:\n",
    "    text = author.get_text()\n",
    "    authors.append(text)\n",
    "\n",
    "authors"
   ]
  },
  {
   "cell_type": "code",
   "execution_count": 16,
   "id": "1172300e-ca59-4d86-a6c0-10cc32c10341",
   "metadata": {},
   "outputs": [
    {
     "name": "stdout",
     "output_type": "stream",
     "text": [
      "1,Albert Einstein\n",
      "2,J.K. Rowling\n",
      "3,Albert Einstein\n",
      "4,Jane Austen\n",
      "5,Marilyn Monroe\n",
      "6,Albert Einstein\n",
      "7,André Gide\n",
      "8,Thomas A. Edison\n",
      "9,Eleanor Roosevelt\n",
      "10,Steve Martin\n"
     ]
    }
   ],
   "source": [
    "#to enumerate author's name\n",
    "\n",
    "for i, desc in enumerate(authors, start=1):\n",
    "    print(f\"{i},{desc}\")"
   ]
  },
  {
   "cell_type": "code",
   "execution_count": null,
   "id": "3d06e054-16c2-48f4-b0e2-140c99156635",
   "metadata": {},
   "outputs": [],
   "source": [
    "#to finds tags\n",
    "\n",
    "<div class=\"tags\">\n",
    "            Tags:\n",
    "            <meta class=\"keywords\" itemprop=\"keywords\" content=\"change,deep-thoughts,thinking,world\"> \n",
    "            \n",
    "            <a class=\"tag\" href=\"/tag/change/page/1/\">change</a>\n",
    "            \n",
    "            <a class=\"tag\" href=\"/tag/deep-thoughts/page/1/\">deep-thoughts</a>\n",
    "            \n",
    "            <a class=\"tag\" href=\"/tag/thinking/page/1/\">thinking</a>\n",
    "            \n",
    "            <a class=\"tag\" href=\"/tag/world/page/1/\">world</a>\n",
    "            \n",
    "        </div>"
   ]
  },
  {
   "cell_type": "code",
   "execution_count": 25,
   "id": "e4573241-1876-43cf-a847-65bdde37f77d",
   "metadata": {},
   "outputs": [],
   "source": [
    "tags = soup.find_all('a', class_=\"tag\")"
   ]
  },
  {
   "cell_type": "code",
   "execution_count": 26,
   "id": "025749f0-c0c3-45b7-9c36-a5ec55d914cf",
   "metadata": {},
   "outputs": [
    {
     "data": {
      "text/plain": [
       "['change',\n",
       " 'deep-thoughts',\n",
       " 'thinking',\n",
       " 'world',\n",
       " 'abilities',\n",
       " 'choices',\n",
       " 'inspirational',\n",
       " 'life',\n",
       " 'live',\n",
       " 'miracle',\n",
       " 'miracles',\n",
       " 'aliteracy',\n",
       " 'books',\n",
       " 'classic',\n",
       " 'humor',\n",
       " 'be-yourself',\n",
       " 'inspirational',\n",
       " 'adulthood',\n",
       " 'success',\n",
       " 'value',\n",
       " 'life',\n",
       " 'love',\n",
       " 'edison',\n",
       " 'failure',\n",
       " 'inspirational',\n",
       " 'paraphrased',\n",
       " 'misattributed-eleanor-roosevelt',\n",
       " 'humor',\n",
       " 'obvious',\n",
       " 'simile',\n",
       " 'love',\n",
       " 'inspirational',\n",
       " 'life',\n",
       " 'humor',\n",
       " 'books',\n",
       " 'reading',\n",
       " 'friendship',\n",
       " 'friends',\n",
       " 'truth',\n",
       " 'simile']"
      ]
     },
     "execution_count": 26,
     "metadata": {},
     "output_type": "execute_result"
    }
   ],
   "source": [
    "tag_s = []\n",
    "for tag in tags:\n",
    "    text = tag.get_text()\n",
    "    tag_s.append(text)\n",
    "tag_s"
   ]
  },
  {
   "cell_type": "code",
   "execution_count": null,
   "id": "fd2fdefd-9e77-4b23-90d6-93f4ec1788cb",
   "metadata": {},
   "outputs": [],
   "source": [
    "WIKIPEDIA SCRAPING"
   ]
  },
  {
   "cell_type": "code",
   "execution_count": 27,
   "id": "8af359cb-4909-410d-b535-84ede6edca70",
   "metadata": {},
   "outputs": [],
   "source": [
    "#paste url\n",
    "\n",
    "url = \"https://en.wikipedia.org/wiki/Nutrition\""
   ]
  },
  {
   "cell_type": "code",
   "execution_count": 28,
   "id": "4811fe87-611c-4207-bf22-192d0d0c38b7",
   "metadata": {},
   "outputs": [
    {
     "data": {
      "text/plain": [
       "'https://en.wikipedia.org/wiki/Nutrition'"
      ]
     },
     "execution_count": 28,
     "metadata": {},
     "output_type": "execute_result"
    }
   ],
   "source": [
    "url"
   ]
  },
  {
   "cell_type": "code",
   "execution_count": 29,
   "id": "337a1ded-71d2-4444-93e8-f0a38a0f0f44",
   "metadata": {},
   "outputs": [
    {
     "data": {
      "text/plain": [
       "<Response [200]>"
      ]
     },
     "execution_count": 29,
     "metadata": {},
     "output_type": "execute_result"
    }
   ],
   "source": [
    "response = requests.get(url)\n",
    "response"
   ]
  },
  {
   "cell_type": "code",
   "execution_count": 30,
   "id": "4099f2a0-779f-40ce-bdfb-c79c990b9275",
   "metadata": {},
   "outputs": [],
   "source": [
    "body= response.content"
   ]
  },
  {
   "cell_type": "code",
   "execution_count": 31,
   "id": "f9d75d9e-cddf-4857-9f8f-53e56a4fd73f",
   "metadata": {},
   "outputs": [],
   "source": [
    "soup = BeautifulSoup(body, \"html.parser\")"
   ]
  },
  {
   "cell_type": "code",
   "execution_count": null,
   "id": "572384bd-fbf8-4635-aefe-4baf3412129c",
   "metadata": {},
   "outputs": [],
   "source": [
    "#paste path\n",
    "\n",
    "<div class=\"mw-heading mw-heading2\"><h2 id=\"History\">History</h2><span class=\"mw-editsection\"><span class=\"mw-editsection-bracket\">[</span><a href=\"/w/index.php?title=Nutrition&amp;action=edit&amp;section=1\" title=\"Edit section: History\"><span>edit</span></a><span class=\"mw-editsection-bracket\">]</span></span></div>"
   ]
  },
  {
   "cell_type": "code",
   "execution_count": 32,
   "id": "dbb010fe-615f-4f93-bd56-4357e024002d",
   "metadata": {},
   "outputs": [
    {
     "data": {
      "text/plain": [
       "[<div class=\"mw-heading mw-heading2\"><h2 id=\"History\">History</h2><span class=\"mw-editsection\"><span class=\"mw-editsection-bracket\">[</span><a href=\"/w/index.php?title=Nutrition&amp;action=edit&amp;section=1\" title=\"Edit section: History\"><span>edit</span></a><span class=\"mw-editsection-bracket\">]</span></span></div>,\n",
       " <div class=\"mw-heading mw-heading2\"><h2 id=\"Nutrients\">Nutrients</h2><span class=\"mw-editsection\"><span class=\"mw-editsection-bracket\">[</span><a href=\"/w/index.php?title=Nutrition&amp;action=edit&amp;section=2\" title=\"Edit section: Nutrients\"><span>edit</span></a><span class=\"mw-editsection-bracket\">]</span></span></div>,\n",
       " <div class=\"mw-heading mw-heading2\"><h2 id=\"Nutrient_deficiency\">Nutrient deficiency</h2><span class=\"mw-editsection\"><span class=\"mw-editsection-bracket\">[</span><a href=\"/w/index.php?title=Nutrition&amp;action=edit&amp;section=7\" title=\"Edit section: Nutrient deficiency\"><span>edit</span></a><span class=\"mw-editsection-bracket\">]</span></span></div>,\n",
       " <div class=\"mw-heading mw-heading2\"><h2 id=\"In_organisms\">In organisms</h2><span class=\"mw-editsection\"><span class=\"mw-editsection-bracket\">[</span><a href=\"/w/index.php?title=Nutrition&amp;action=edit&amp;section=8\" title=\"Edit section: In organisms\"><span>edit</span></a><span class=\"mw-editsection-bracket\">]</span></span></div>,\n",
       " <div class=\"mw-heading mw-heading2\"><h2 id=\"See_also\">See also</h2><span class=\"mw-editsection\"><span class=\"mw-editsection-bracket\">[</span><a href=\"/w/index.php?title=Nutrition&amp;action=edit&amp;section=16\" title=\"Edit section: See also\"><span>edit</span></a><span class=\"mw-editsection-bracket\">]</span></span></div>,\n",
       " <div class=\"mw-heading mw-heading2\"><h2 id=\"References\">References</h2><span class=\"mw-editsection\"><span class=\"mw-editsection-bracket\">[</span><a href=\"/w/index.php?title=Nutrition&amp;action=edit&amp;section=17\" title=\"Edit section: References\"><span>edit</span></a><span class=\"mw-editsection-bracket\">]</span></span></div>,\n",
       " <div class=\"mw-heading mw-heading2\"><h2 id=\"Bibliography\">Bibliography</h2><span class=\"mw-editsection\"><span class=\"mw-editsection-bracket\">[</span><a href=\"/w/index.php?title=Nutrition&amp;action=edit&amp;section=18\" title=\"Edit section: Bibliography\"><span>edit</span></a><span class=\"mw-editsection-bracket\">]</span></span></div>,\n",
       " <div class=\"mw-heading mw-heading2\"><h2 id=\"External_links\">External links</h2><span class=\"mw-editsection\"><span class=\"mw-editsection-bracket\">[</span><a href=\"/w/index.php?title=Nutrition&amp;action=edit&amp;section=19\" title=\"Edit section: External links\"><span>edit</span></a><span class=\"mw-editsection-bracket\">]</span></span></div>]"
      ]
     },
     "execution_count": 32,
     "metadata": {},
     "output_type": "execute_result"
    }
   ],
   "source": [
    "name = soup.find_all('div', class_=\"mw-heading mw-heading2\") \n",
    "name"
   ]
  },
  {
   "cell_type": "code",
   "execution_count": 33,
   "id": "ad75143a-27cd-441a-ab2b-b6e40213ce31",
   "metadata": {},
   "outputs": [
    {
     "data": {
      "text/plain": [
       "['History[edit]',\n",
       " 'Nutrients[edit]',\n",
       " 'Nutrient deficiency[edit]',\n",
       " 'In organisms[edit]',\n",
       " 'See also[edit]',\n",
       " 'References[edit]',\n",
       " 'Bibliography[edit]',\n",
       " 'External links[edit]']"
      ]
     },
     "execution_count": 33,
     "metadata": {},
     "output_type": "execute_result"
    }
   ],
   "source": [
    "# to get the headings\n",
    "\n",
    "names = []\n",
    "for n in name:\n",
    "    text = n.get_text(strip = True)\n",
    "    names.append(text)\n",
    "names"
   ]
  },
  {
   "cell_type": "code",
   "execution_count": 34,
   "id": "b8deee67-6fb3-4769-8f12-0b8c3816064a",
   "metadata": {},
   "outputs": [
    {
     "name": "stdout",
     "output_type": "stream",
     "text": [
      "['History', 'Nutrients', 'Nutrient deficiency', 'In organisms', 'See also', 'References', 'Bibliography', 'External links']\n"
     ]
    }
   ],
   "source": [
    "# to remove [edit]\n",
    "\n",
    "names\n",
    "\n",
    "cleaned_names = [h.replace('[edit]', '').strip() for h in names]\n",
    "\n",
    "print(cleaned_names)"
   ]
  },
  {
   "cell_type": "code",
   "execution_count": 35,
   "id": "916d3a9c-6d91-4a8e-a096-35f1b0d7b9cf",
   "metadata": {},
   "outputs": [
    {
     "name": "stdout",
     "output_type": "stream",
     "text": [
      "1, History\n",
      "2, Nutrients\n",
      "3, Nutrient deficiency\n",
      "4, In organisms\n",
      "5, See also\n",
      "6, References\n",
      "7, Bibliography\n",
      "8, External links\n"
     ]
    }
   ],
   "source": [
    "#to enumerate\n",
    "\n",
    "for i, desc in enumerate (cleaned_names, start = 1):\n",
    "    print(f\"{i}, {desc}\")"
   ]
  },
  {
   "cell_type": "code",
   "execution_count": null,
   "id": "d61a4e8d-9715-4239-a94b-a4237ba8fd90",
   "metadata": {},
   "outputs": [],
   "source": [
    "# my article\n",
    "\n",
    "<div role=\"note\" class=\"hatnote navigation-not-searchable\">"
   ]
  },
  {
   "cell_type": "code",
   "execution_count": 37,
   "id": "e23ead57-f340-4c89-9f12-425d9d2835db",
   "metadata": {},
   "outputs": [
    {
     "data": {
      "text/plain": [
       "[<div class=\"hatnote navigation-not-searchable\" role=\"note\">For other uses, see <a class=\"mw-disambig\" href=\"/wiki/Nutrition_(disambiguation)\" title=\"Nutrition (disambiguation)\">Nutrition (disambiguation)</a>.</div>,\n",
       " <div class=\"hatnote navigation-not-searchable\" role=\"note\">Main article: <a href=\"/wiki/Nutritional_science\" title=\"Nutritional science\">Nutritional science</a></div>,\n",
       " <div class=\"hatnote navigation-not-searchable\" role=\"note\">Main article: <a href=\"/wiki/Nutrient\" title=\"Nutrient\">Nutrient</a></div>,\n",
       " <div class=\"hatnote navigation-not-searchable\" role=\"note\">Main article: <a href=\"/wiki/Primary_nutritional_groups\" title=\"Primary nutritional groups\">Primary nutritional groups</a></div>,\n",
       " <div class=\"hatnote navigation-not-searchable\" role=\"note\">Main article: <a href=\"/wiki/Diet_(nutrition)\" title=\"Diet (nutrition)\">Diet (nutrition)</a></div>,\n",
       " <div class=\"hatnote navigation-not-searchable\" role=\"note\">Main article: <a href=\"/wiki/Nutrient_cycle\" title=\"Nutrient cycle\">Nutrient cycle</a></div>,\n",
       " <div class=\"hatnote navigation-not-searchable\" role=\"note\">Main article: <a href=\"/wiki/Foraging\" title=\"Foraging\">Foraging</a></div>,\n",
       " <div class=\"hatnote navigation-not-searchable\" role=\"note\">See also: <a href=\"/wiki/Malnutrition\" title=\"Malnutrition\">Malnutrition</a></div>,\n",
       " <div class=\"hatnote navigation-not-searchable\" role=\"note\">Main article: <a href=\"/wiki/Animal_nutrition\" title=\"Animal nutrition\">Animal nutrition</a></div>,\n",
       " <div class=\"hatnote navigation-not-searchable\" role=\"note\">Main articles: <a href=\"/wiki/Human_nutrition\" title=\"Human nutrition\">Human nutrition</a> and <a href=\"/wiki/Cooking\" title=\"Cooking\">Cooking</a></div>,\n",
       " <div class=\"hatnote navigation-not-searchable\" role=\"note\">Main article: <a href=\"/wiki/Plant_nutrition\" title=\"Plant nutrition\">Plant nutrition</a></div>,\n",
       " <div class=\"hatnote navigation-not-searchable\" role=\"note\">See also: <a href=\"/wiki/Fungiculture\" title=\"Fungiculture\">Fungiculture</a></div>,\n",
       " <div class=\"hatnote navigation-not-searchable\" role=\"note\">Further information: <a href=\"/wiki/Microbial_metabolism\" title=\"Microbial metabolism\">Microbial metabolism</a></div>]"
      ]
     },
     "execution_count": 37,
     "metadata": {},
     "output_type": "execute_result"
    }
   ],
   "source": [
    "note = soup.find_all('div', class_=\"hatnote navigation-not-searchable\")\n",
    "note"
   ]
  },
  {
   "cell_type": "code",
   "execution_count": 38,
   "id": "9366db87-0975-4801-870f-78c3e4ae9c57",
   "metadata": {},
   "outputs": [],
   "source": [
    "#note tag\n",
    "\n",
    "note_tag = []\n",
    "for n in note:\n",
    "    text = n.get_text(strip = True)\n",
    "    note_tag.append(text)\n",
    "\n",
    "filtered_tags = note_tag[1:-1]"
   ]
  },
  {
   "cell_type": "code",
   "execution_count": 39,
   "id": "1f332a4a-2d1b-4a9e-bc9c-4da74a3a3b66",
   "metadata": {},
   "outputs": [
    {
     "data": {
      "text/plain": [
       "['Main article:Nutritional science',\n",
       " 'Main article:Nutrient',\n",
       " 'Main article:Primary nutritional groups',\n",
       " 'Main article:Diet (nutrition)',\n",
       " 'Main article:Nutrient cycle',\n",
       " 'Main article:Foraging',\n",
       " 'See also:Malnutrition',\n",
       " 'Main article:Animal nutrition',\n",
       " 'Main articles:Human nutritionandCooking',\n",
       " 'Main article:Plant nutrition',\n",
       " 'See also:Fungiculture']"
      ]
     },
     "execution_count": 39,
     "metadata": {},
     "output_type": "execute_result"
    }
   ],
   "source": [
    "filtered_tags"
   ]
  },
  {
   "cell_type": "code",
   "execution_count": 44,
   "id": "e8c624ca-bd7d-4849-b830-762a043fab16",
   "metadata": {},
   "outputs": [
    {
     "name": "stdout",
     "output_type": "stream",
     "text": [
      "1, Main article:Nutritional science\n",
      "2, Main article:Nutrient\n",
      "3, Main article:Primary nutritional groups\n",
      "4, Main article:Diet (nutrition)\n",
      "5, Main article:Nutrient cycle\n",
      "6, Main article:Foraging\n",
      "7, See also:Malnutrition\n",
      "8, Main article:Animal nutrition\n",
      "9, Main articles:Human nutritionandCooking\n",
      "10, Main article:Plant nutrition\n",
      "11, See also:Fungiculture\n"
     ]
    }
   ],
   "source": [
    "filtered_tags\n",
    "\n",
    "for i, desc in enumerate (filtered_tags, start = 1):\n",
    "    print(f\"{i}, {desc}\")"
   ]
  },
  {
   "cell_type": "code",
   "execution_count": null,
   "id": "28da1370-480e-4c1d-bdfb-10371a6aaa93",
   "metadata": {},
   "outputs": [],
   "source": []
  }
 ],
 "metadata": {
  "kernelspec": {
   "display_name": "Python 3 (ipykernel)",
   "language": "python",
   "name": "python3"
  },
  "language_info": {
   "codemirror_mode": {
    "name": "ipython",
    "version": 3
   },
   "file_extension": ".py",
   "mimetype": "text/x-python",
   "name": "python",
   "nbconvert_exporter": "python",
   "pygments_lexer": "ipython3",
   "version": "3.12.7"
  }
 },
 "nbformat": 4,
 "nbformat_minor": 5
}
