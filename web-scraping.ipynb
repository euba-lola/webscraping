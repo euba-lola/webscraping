{
 "cells": [
  {
   "cell_type": "code",
   "execution_count": 20,
   "id": "15615402-cf74-48b2-988f-0dfcfeadcb2c",
   "metadata": {},
   "outputs": [],
   "source": [
    "import pandas as pd\n",
    "from bs4 import BeautifulSoup\n",
    "import requests"
   ]
  },
  {
   "cell_type": "code",
   "execution_count": 21,
   "id": "ef3c14f7-42df-4cc8-abcc-8258acfc1cb2",
   "metadata": {},
   "outputs": [],
   "source": [
    "url = 'https://www.imdb.com/search/title/?groups=top_250'"
   ]
  },
  {
   "cell_type": "code",
   "execution_count": 22,
   "id": "44d1bcc9-2639-4146-8bc4-3d46020983f4",
   "metadata": {},
   "outputs": [
    {
     "data": {
      "text/plain": [
       "'https://www.imdb.com/search/title/?groups=top_250'"
      ]
     },
     "execution_count": 22,
     "metadata": {},
     "output_type": "execute_result"
    }
   ],
   "source": [
    "url"
   ]
  },
  {
   "cell_type": "code",
   "execution_count": 23,
   "id": "649f4411-3421-4922-9352-3864bd10b9ed",
   "metadata": {},
   "outputs": [
    {
     "data": {
      "text/plain": [
       "<Response [403]>"
      ]
     },
     "execution_count": 23,
     "metadata": {},
     "output_type": "execute_result"
    }
   ],
   "source": [
    "response = requests.get(url)\n",
    "response"
   ]
  },
  {
   "cell_type": "code",
   "execution_count": 24,
   "id": "24a2ac87-1d6a-48c8-82d6-dd9389c52694",
   "metadata": {},
   "outputs": [],
   "source": [
    "with requests.Session() as se:\n",
    "    se.headers = {\n",
    "        \"User-Agent\": \"Mozilla/5.0 (Windows NT 10.0; Win64; x64) AppleWebKit/537.36 (KHTML, like Gecko) Chrome/113.0.0.0 Safari/537.36\",\n",
    "    \"Accept-Language\": \"en-US,en;q=0.9\",\n",
    "}\n"
   ]
  },
  {
   "cell_type": "code",
   "execution_count": 25,
   "id": "3a204be3-a1f9-4a77-a790-2f337ff15afd",
   "metadata": {},
   "outputs": [
    {
     "data": {
      "text/plain": [
       "<Response [200]>"
      ]
     },
     "execution_count": 25,
     "metadata": {},
     "output_type": "execute_result"
    }
   ],
   "source": [
    "response = se.get(url)\n",
    "response"
   ]
  },
  {
   "cell_type": "raw",
   "id": "ac49c0da-74d3-44b2-a40c-6a5395b51f5e",
   "metadata": {},
   "source": [
    "response"
   ]
  },
  {
   "cell_type": "code",
   "execution_count": 26,
   "id": "b3b19aa2-3169-4006-b5cb-d3120edfd777",
   "metadata": {},
   "outputs": [],
   "source": [
    " body = response.content"
   ]
  },
  {
   "cell_type": "code",
   "execution_count": 27,
   "id": "f639a3fd-d465-4ac9-87e4-fdc938aa6c30",
   "metadata": {},
   "outputs": [],
   "source": [
    "soup = BeautifulSoup(body, 'html.parser')"
   ]
  },
  {
   "cell_type": "code",
   "execution_count": null,
   "id": "de7dc1eb-fe65-42ef-8128-5fb38d97086f",
   "metadata": {},
   "outputs": [],
   "source": [
    "<h3 class=\"ipc-title__text\">1. The Shawshank Redemption</h3>"
   ]
  },
  {
   "cell_type": "code",
   "execution_count": 9,
   "id": "3737aff8-c41c-4d65-ac6d-4f79cf3d7348",
   "metadata": {
    "jupyter": {
     "source_hidden": true
    }
   },
   "outputs": [
    {
     "data": {
      "text/plain": [
       "<h3 class=\"ipc-title__text\">1. The Shawshank Redemption</h3>"
      ]
     },
     "execution_count": 9,
     "metadata": {},
     "output_type": "execute_result"
    }
   ],
   "source": [
    "movies_title = soup.find('h3', class_= \"ipc-title__text\")\n",
    "movies_title"
   ]
  },
  {
   "cell_type": "code",
   "execution_count": 32,
   "id": "a7c267e1-cb62-4058-96af-dfdc50bef369",
   "metadata": {},
   "outputs": [
    {
     "data": {
      "text/plain": [
       "[<h3 class=\"ipc-title__text\">1. The Shawshank Redemption</h3>,\n",
       " <h3 class=\"ipc-title__text\">2. Star Wars: Episode IV - A New Hope</h3>,\n",
       " <h3 class=\"ipc-title__text\">3. The Dark Knight</h3>,\n",
       " <h3 class=\"ipc-title__text\">4. Inception</h3>,\n",
       " <h3 class=\"ipc-title__text\">5. Interstellar</h3>,\n",
       " <h3 class=\"ipc-title__text\">6. The Godfather</h3>,\n",
       " <h3 class=\"ipc-title__text\">7. Top Gun: Maverick</h3>,\n",
       " <h3 class=\"ipc-title__text\">8. Gladiator</h3>,\n",
       " <h3 class=\"ipc-title__text\">9. Oppenheimer</h3>,\n",
       " <h3 class=\"ipc-title__text\">10. Pulp Fiction</h3>,\n",
       " <h3 class=\"ipc-title__text\">11. Inglourious Basterds</h3>,\n",
       " <h3 class=\"ipc-title__text\">12. The Lord of the Rings: The Fellowship of the Ring</h3>,\n",
       " <h3 class=\"ipc-title__text\">13. Dune: Part Two</h3>,\n",
       " <h3 class=\"ipc-title__text\">14. Goodfellas</h3>,\n",
       " <h3 class=\"ipc-title__text\">15. The Silence of the Lambs</h3>,\n",
       " <h3 class=\"ipc-title__text\">16. The Wolf of Wall Street</h3>,\n",
       " <h3 class=\"ipc-title__text\">17. Schindler's List</h3>,\n",
       " <h3 class=\"ipc-title__text\">18. Avengers: Endgame</h3>,\n",
       " <h3 class=\"ipc-title__text\">19. Fight Club</h3>,\n",
       " <h3 class=\"ipc-title__text\">20. The Wild Robot</h3>,\n",
       " <h3 class=\"ipc-title__text\">21. Se7en</h3>,\n",
       " <h3 class=\"ipc-title__text\">22. Parasite</h3>,\n",
       " <h3 class=\"ipc-title__text\">23. Back to the Future</h3>,\n",
       " <h3 class=\"ipc-title__text\">24. Star Wars: Episode V - The Empire Strikes Back</h3>,\n",
       " <h3 class=\"ipc-title__text\">25. The Truman Show</h3>,\n",
       " <h3 class=\"ipc-title__text\">Recently viewed</h3>]"
      ]
     },
     "execution_count": 32,
     "metadata": {},
     "output_type": "execute_result"
    }
   ],
   "source": [
    "movies_title = soup.find_all('h3', class_= \"ipc-title__text\")\n",
    "movies_title"
   ]
  },
  {
   "cell_type": "code",
   "execution_count": 33,
   "id": "521904f5-25c3-4554-9a61-c788ee02b706",
   "metadata": {},
   "outputs": [
    {
     "data": {
      "text/plain": [
       "['1. The Shawshank Redemption',\n",
       " '2. Star Wars: Episode IV - A New Hope',\n",
       " '3. The Dark Knight',\n",
       " '4. Inception',\n",
       " '5. Interstellar',\n",
       " '6. The Godfather',\n",
       " '7. Top Gun: Maverick',\n",
       " '8. Gladiator',\n",
       " '9. Oppenheimer',\n",
       " '10. Pulp Fiction',\n",
       " '11. Inglourious Basterds',\n",
       " '12. The Lord of the Rings: The Fellowship of the Ring',\n",
       " '13. Dune: Part Two',\n",
       " '14. Goodfellas',\n",
       " '15. The Silence of the Lambs',\n",
       " '16. The Wolf of Wall Street',\n",
       " \"17. Schindler's List\",\n",
       " '18. Avengers: Endgame',\n",
       " '19. Fight Club',\n",
       " '20. The Wild Robot',\n",
       " '21. Se7en',\n",
       " '22. Parasite',\n",
       " '23. Back to the Future',\n",
       " '24. Star Wars: Episode V - The Empire Strikes Back',\n",
       " '25. The Truman Show']"
      ]
     },
     "execution_count": 33,
     "metadata": {},
     "output_type": "execute_result"
    }
   ],
   "source": [
    "movies = []\n",
    "for title in movies_title:\n",
    "    text = title.get_text()\n",
    "    movies.append(text)\n",
    "\n",
    "movies = movies [:25]\n",
    "movies"
   ]
  },
  {
   "cell_type": "code",
   "execution_count": 34,
   "id": "fd82ef16-06be-4a08-984a-9da17e4b8a9b",
   "metadata": {},
   "outputs": [
    {
     "data": {
      "text/plain": [
       "25"
      ]
     },
     "execution_count": 34,
     "metadata": {},
     "output_type": "execute_result"
    }
   ],
   "source": [
    "len(movies)"
   ]
  },
  {
   "cell_type": "code",
   "execution_count": 35,
   "id": "d3e0ffef-5fc1-4660-b8b8-b7fd572cec3f",
   "metadata": {},
   "outputs": [
    {
     "data": {
      "text/plain": [
       "['1. The Shawshank Redemption',\n",
       " '2. Star Wars: Episode IV - A New Hope',\n",
       " '3. The Dark Knight',\n",
       " '4. Inception',\n",
       " '5. Interstellar',\n",
       " '6. The Godfather',\n",
       " '7. Top Gun: Maverick',\n",
       " '8. Gladiator',\n",
       " '9. Oppenheimer',\n",
       " '10. Pulp Fiction',\n",
       " '11. Inglourious Basterds',\n",
       " '12. The Lord of the Rings: The Fellowship of the Ring',\n",
       " '13. Dune: Part Two',\n",
       " '14. Goodfellas',\n",
       " '15. The Silence of the Lambs',\n",
       " '16. The Wolf of Wall Street',\n",
       " \"17. Schindler's List\",\n",
       " '18. Avengers: Endgame',\n",
       " '19. Fight Club',\n",
       " '20. The Wild Robot',\n",
       " '21. Se7en',\n",
       " '22. Parasite',\n",
       " '23. Back to the Future',\n",
       " '24. Star Wars: Episode V - The Empire Strikes Back',\n",
       " '25. The Truman Show']"
      ]
     },
     "execution_count": 35,
     "metadata": {},
     "output_type": "execute_result"
    }
   ],
   "source": [
    "movies"
   ]
  },
  {
   "cell_type": "code",
   "execution_count": 36,
   "id": "c19c8491-3a64-41a5-8388-e5f405401c36",
   "metadata": {},
   "outputs": [
    {
     "name": "stdout",
     "output_type": "stream",
     "text": [
      "[1, 2, 3, 4, 5, 6, 7, 8, 9, 10, 11, 12, 13, 14, 15, 16, 17, 18, 19, 20, 21, 22, 23, 24, 25]\n"
     ]
    }
   ],
   "source": [
    "ranks = []\n",
    "titles = []\n",
    "\n",
    "for movie in movies:\n",
    "    rank, title = movie.split('. ',)\n",
    "    ranks.append(int(rank))\n",
    "    titles.append(title)\n",
    "\n",
    "print(ranks)"
   ]
  },
  {
   "cell_type": "code",
   "execution_count": 37,
   "id": "20cff7ea-fe2a-4d70-a92e-05edfdeeba92",
   "metadata": {},
   "outputs": [
    {
     "name": "stdout",
     "output_type": "stream",
     "text": [
      "['The Shawshank Redemption', 'Star Wars: Episode IV - A New Hope', 'The Dark Knight', 'Inception', 'Interstellar', 'The Godfather', 'Top Gun: Maverick', 'Gladiator', 'Oppenheimer', 'Pulp Fiction', 'Inglourious Basterds', 'The Lord of the Rings: The Fellowship of the Ring', 'Dune: Part Two', 'Goodfellas', 'The Silence of the Lambs', 'The Wolf of Wall Street', \"Schindler's List\", 'Avengers: Endgame', 'Fight Club', 'The Wild Robot', 'Se7en', 'Parasite', 'Back to the Future', 'Star Wars: Episode V - The Empire Strikes Back', 'The Truman Show']\n"
     ]
    }
   ],
   "source": [
    "print(titles)"
   ]
  },
  {
   "cell_type": "code",
   "execution_count": 38,
   "id": "b58dcbd8-e5fb-46ce-b827-439370905a0b",
   "metadata": {},
   "outputs": [
    {
     "data": {
      "text/plain": [
       "[1,\n",
       " 2,\n",
       " 3,\n",
       " 4,\n",
       " 5,\n",
       " 6,\n",
       " 7,\n",
       " 8,\n",
       " 9,\n",
       " 10,\n",
       " 11,\n",
       " 12,\n",
       " 13,\n",
       " 14,\n",
       " 15,\n",
       " 16,\n",
       " 17,\n",
       " 18,\n",
       " 19,\n",
       " 20,\n",
       " 21,\n",
       " 22,\n",
       " 23,\n",
       " 24,\n",
       " 25]"
      ]
     },
     "execution_count": 38,
     "metadata": {},
     "output_type": "execute_result"
    }
   ],
   "source": [
    "ranks"
   ]
  },
  {
   "cell_type": "code",
   "execution_count": 39,
   "id": "a59095cc-f202-48aa-94c4-8d67018780cf",
   "metadata": {},
   "outputs": [
    {
     "name": "stdout",
     "output_type": "stream",
     "text": [
      "['The Shawshank Redemption', 'Star Wars: Episode IV - A New Hope', 'The Dark Knight', 'Inception', 'Interstellar', 'The Godfather', 'Top Gun: Maverick', 'Gladiator', 'Oppenheimer', 'Pulp Fiction', 'Inglourious Basterds', 'The Lord of the Rings: The Fellowship of the Ring', 'Dune: Part Two', 'Goodfellas', 'The Silence of the Lambs', 'The Wolf of Wall Street', \"Schindler's List\", 'Avengers: Endgame', 'Fight Club', 'The Wild Robot', 'Se7en', 'Parasite', 'Back to the Future', 'Star Wars: Episode V - The Empire Strikes Back', 'The Truman Show']\n"
     ]
    }
   ],
   "source": [
    "print(titles)"
   ]
  },
  {
   "cell_type": "code",
   "execution_count": 40,
   "id": "f704eb8e-0cdc-4497-b43e-c13da10cbec7",
   "metadata": {},
   "outputs": [
    {
     "data": {
      "text/plain": [
       "(25, 25)"
      ]
     },
     "execution_count": 40,
     "metadata": {},
     "output_type": "execute_result"
    }
   ],
   "source": [
    "len(movies), len(titles)"
   ]
  },
  {
   "cell_type": "code",
   "execution_count": null,
   "id": "9744de48-2f9c-40d0-bf6e-f6ef6fe19dae",
   "metadata": {},
   "outputs": [],
   "source": [
    "<span class=\"ipc-rating-star--rating\">9.3</span>"
   ]
  },
  {
   "cell_type": "code",
   "execution_count": 41,
   "id": "e498361d-a96a-4c69-9b7d-7b68ff132f07",
   "metadata": {},
   "outputs": [
    {
     "data": {
      "text/plain": [
       "[<span class=\"ipc-rating-star--rating\">9.3</span>,\n",
       " <span class=\"ipc-rating-star--rating\">8.6</span>,\n",
       " <span class=\"ipc-rating-star--rating\">9.0</span>,\n",
       " <span class=\"ipc-rating-star--rating\">8.8</span>,\n",
       " <span class=\"ipc-rating-star--rating\">8.7</span>,\n",
       " <span class=\"ipc-rating-star--rating\">9.2</span>,\n",
       " <span class=\"ipc-rating-star--rating\">8.2</span>,\n",
       " <span class=\"ipc-rating-star--rating\">8.5</span>,\n",
       " <span class=\"ipc-rating-star--rating\">8.3</span>,\n",
       " <span class=\"ipc-rating-star--rating\">8.9</span>,\n",
       " <span class=\"ipc-rating-star--rating\">8.4</span>,\n",
       " <span class=\"ipc-rating-star--rating\">8.9</span>,\n",
       " <span class=\"ipc-rating-star--rating\">8.5</span>,\n",
       " <span class=\"ipc-rating-star--rating\">8.7</span>,\n",
       " <span class=\"ipc-rating-star--rating\">8.6</span>,\n",
       " <span class=\"ipc-rating-star--rating\">8.2</span>,\n",
       " <span class=\"ipc-rating-star--rating\">9.0</span>,\n",
       " <span class=\"ipc-rating-star--rating\">8.4</span>,\n",
       " <span class=\"ipc-rating-star--rating\">8.8</span>,\n",
       " <span class=\"ipc-rating-star--rating\">8.2</span>,\n",
       " <span class=\"ipc-rating-star--rating\">8.6</span>,\n",
       " <span class=\"ipc-rating-star--rating\">8.5</span>,\n",
       " <span class=\"ipc-rating-star--rating\">8.5</span>,\n",
       " <span class=\"ipc-rating-star--rating\">8.7</span>,\n",
       " <span class=\"ipc-rating-star--rating\">8.2</span>]"
      ]
     },
     "execution_count": 41,
     "metadata": {},
     "output_type": "execute_result"
    }
   ],
   "source": [
    "ratings = soup.find_all('span', class_=\"ipc-rating-star--rating\")\n",
    "ratings"
   ]
  },
  {
   "cell_type": "code",
   "execution_count": 76,
   "id": "30be2a62-0be1-4615-b42f-9638ea9b7e65",
   "metadata": {},
   "outputs": [
    {
     "data": {
      "text/plain": [
       "['9.3',\n",
       " '8.6',\n",
       " '9.0',\n",
       " '8.8',\n",
       " '8.7',\n",
       " '9.2',\n",
       " '8.2',\n",
       " '8.5',\n",
       " '8.3',\n",
       " '8.9',\n",
       " '8.4',\n",
       " '8.9',\n",
       " '8.5',\n",
       " '8.7',\n",
       " '8.6',\n",
       " '8.2',\n",
       " '9.0',\n",
       " '8.4',\n",
       " '8.8',\n",
       " '8.2',\n",
       " '8.6',\n",
       " '8.5',\n",
       " '8.5',\n",
       " '8.7',\n",
       " '8.2']"
      ]
     },
     "execution_count": 76,
     "metadata": {},
     "output_type": "execute_result"
    }
   ],
   "source": [
    "over_ratings = []\n",
    "for rating in ratings:\n",
    "    text = rating.get_text()\n",
    "    over_ratings.append(text)\n",
    "\n",
    "over_ratings"
   ]
  },
  {
   "cell_type": "code",
   "execution_count": null,
   "id": "09aedd5c-9037-4c5a-8eba-0edad8d6a03d",
   "metadata": {},
   "outputs": [],
   "source": [
    "VOTE COUNT"
   ]
  },
  {
   "cell_type": "code",
   "execution_count": null,
   "id": "0c6ff939-5eff-4d74-8f11-12aeb3daba51",
   "metadata": {},
   "outputs": [],
   "source": [
    "<span class=\"ipc-rating-star--voteCount\">&nbsp;(<!-- -->3M<!-- -->)</span>"
   ]
  },
  {
   "cell_type": "code",
   "execution_count": 42,
   "id": "680d3770-fbfd-41ff-aed2-ce677c2f9bef",
   "metadata": {},
   "outputs": [
    {
     "data": {
      "text/plain": [
       "[<span class=\"ipc-rating-star--voteCount\"> (<!-- -->3M<!-- -->)</span>,\n",
       " <span class=\"ipc-rating-star--voteCount\"> (<!-- -->1.5M<!-- -->)</span>,\n",
       " <span class=\"ipc-rating-star--voteCount\"> (<!-- -->3M<!-- -->)</span>,\n",
       " <span class=\"ipc-rating-star--voteCount\"> (<!-- -->2.7M<!-- -->)</span>,\n",
       " <span class=\"ipc-rating-star--voteCount\"> (<!-- -->2.3M<!-- -->)</span>,\n",
       " <span class=\"ipc-rating-star--voteCount\"> (<!-- -->2.1M<!-- -->)</span>,\n",
       " <span class=\"ipc-rating-star--voteCount\"> (<!-- -->775K<!-- -->)</span>,\n",
       " <span class=\"ipc-rating-star--voteCount\"> (<!-- -->1.8M<!-- -->)</span>,\n",
       " <span class=\"ipc-rating-star--voteCount\"> (<!-- -->891K<!-- -->)</span>,\n",
       " <span class=\"ipc-rating-star--voteCount\"> (<!-- -->2.3M<!-- -->)</span>,\n",
       " <span class=\"ipc-rating-star--voteCount\"> (<!-- -->1.7M<!-- -->)</span>,\n",
       " <span class=\"ipc-rating-star--voteCount\"> (<!-- -->2.1M<!-- -->)</span>,\n",
       " <span class=\"ipc-rating-star--voteCount\"> (<!-- -->630K<!-- -->)</span>,\n",
       " <span class=\"ipc-rating-star--voteCount\"> (<!-- -->1.3M<!-- -->)</span>,\n",
       " <span class=\"ipc-rating-star--voteCount\"> (<!-- -->1.6M<!-- -->)</span>,\n",
       " <span class=\"ipc-rating-star--voteCount\"> (<!-- -->1.7M<!-- -->)</span>,\n",
       " <span class=\"ipc-rating-star--voteCount\"> (<!-- -->1.5M<!-- -->)</span>,\n",
       " <span class=\"ipc-rating-star--voteCount\"> (<!-- -->1.4M<!-- -->)</span>,\n",
       " <span class=\"ipc-rating-star--voteCount\"> (<!-- -->2.5M<!-- -->)</span>,\n",
       " <span class=\"ipc-rating-star--voteCount\"> (<!-- -->168K<!-- -->)</span>,\n",
       " <span class=\"ipc-rating-star--voteCount\"> (<!-- -->1.9M<!-- -->)</span>,\n",
       " <span class=\"ipc-rating-star--voteCount\"> (<!-- -->1.1M<!-- -->)</span>,\n",
       " <span class=\"ipc-rating-star--voteCount\"> (<!-- -->1.4M<!-- -->)</span>,\n",
       " <span class=\"ipc-rating-star--voteCount\"> (<!-- -->1.4M<!-- -->)</span>,\n",
       " <span class=\"ipc-rating-star--voteCount\"> (<!-- -->1.3M<!-- -->)</span>]"
      ]
     },
     "execution_count": 42,
     "metadata": {},
     "output_type": "execute_result"
    }
   ],
   "source": [
    "vote_count = soup.find_all('span', class_=\"ipc-rating-star--voteCount\")\n",
    "vote_count"
   ]
  },
  {
   "cell_type": "code",
   "execution_count": 43,
   "id": "ef66d2b4-4c4d-48bd-b7df-30b2517f5342",
   "metadata": {
    "scrolled": true
   },
   "outputs": [
    {
     "data": {
      "text/plain": [
       "['(3M)',\n",
       " '(1.5M)',\n",
       " '(3M)',\n",
       " '(2.7M)',\n",
       " '(2.3M)',\n",
       " '(2.1M)',\n",
       " '(775K)',\n",
       " '(1.8M)',\n",
       " '(891K)',\n",
       " '(2.3M)',\n",
       " '(1.7M)',\n",
       " '(2.1M)',\n",
       " '(630K)',\n",
       " '(1.3M)',\n",
       " '(1.6M)',\n",
       " '(1.7M)',\n",
       " '(1.5M)',\n",
       " '(1.4M)',\n",
       " '(2.5M)',\n",
       " '(168K)',\n",
       " '(1.9M)',\n",
       " '(1.1M)',\n",
       " '(1.4M)',\n",
       " '(1.4M)',\n",
       " '(1.3M)']"
      ]
     },
     "execution_count": 43,
     "metadata": {},
     "output_type": "execute_result"
    }
   ],
   "source": [
    "counts = []\n",
    "for count in vote_count:\n",
    "    text = count.get_text(strip = True)\n",
    "    counts.append(text)\n",
    "counts"
   ]
  },
  {
   "cell_type": "code",
   "execution_count": 44,
   "id": "c1565547-f955-4cd7-a8d0-804fa1f3e555",
   "metadata": {},
   "outputs": [
    {
     "data": {
      "text/plain": [
       "25"
      ]
     },
     "execution_count": 44,
     "metadata": {},
     "output_type": "execute_result"
    }
   ],
   "source": [
    "len(counts)"
   ]
  },
  {
   "cell_type": "code",
   "execution_count": null,
   "id": "83762127-9c86-4800-aad8-506a62bc712d",
   "metadata": {},
   "outputs": [],
   "source": [
    "YEAR OF MOVIE RELEASE"
   ]
  },
  {
   "cell_type": "code",
   "execution_count": null,
   "id": "34397554-b092-493c-bc62-2410d6a939f2",
   "metadata": {},
   "outputs": [],
   "source": [
    "<span class=\"sc-4b408797-8 iurwGb dli-title-metadata-item\">1994</span>"
   ]
  },
  {
   "cell_type": "code",
   "execution_count": 45,
   "id": "f669740c-1dda-4e95-8f36-997ec3125f10",
   "metadata": {},
   "outputs": [
    {
     "data": {
      "text/plain": [
       "[<span class=\"sc-4b408797-8 iurwGb dli-title-metadata-item\">1994</span>,\n",
       " <span class=\"sc-4b408797-8 iurwGb dli-title-metadata-item\">2h 22m</span>,\n",
       " <span class=\"sc-4b408797-8 iurwGb dli-title-metadata-item\">R</span>,\n",
       " <span class=\"sc-4b408797-8 iurwGb dli-title-metadata-item\">1977</span>,\n",
       " <span class=\"sc-4b408797-8 iurwGb dli-title-metadata-item\">2h 1m</span>,\n",
       " <span class=\"sc-4b408797-8 iurwGb dli-title-metadata-item\">PG</span>,\n",
       " <span class=\"sc-4b408797-8 iurwGb dli-title-metadata-item\">2008</span>,\n",
       " <span class=\"sc-4b408797-8 iurwGb dli-title-metadata-item\">2h 32m</span>,\n",
       " <span class=\"sc-4b408797-8 iurwGb dli-title-metadata-item\">PG-13</span>,\n",
       " <span class=\"sc-4b408797-8 iurwGb dli-title-metadata-item\">2010</span>,\n",
       " <span class=\"sc-4b408797-8 iurwGb dli-title-metadata-item\">2h 28m</span>,\n",
       " <span class=\"sc-4b408797-8 iurwGb dli-title-metadata-item\">PG-13</span>,\n",
       " <span class=\"sc-4b408797-8 iurwGb dli-title-metadata-item\">2014</span>,\n",
       " <span class=\"sc-4b408797-8 iurwGb dli-title-metadata-item\">2h 49m</span>,\n",
       " <span class=\"sc-4b408797-8 iurwGb dli-title-metadata-item\">PG-13</span>,\n",
       " <span class=\"sc-4b408797-8 iurwGb dli-title-metadata-item\">1972</span>,\n",
       " <span class=\"sc-4b408797-8 iurwGb dli-title-metadata-item\">2h 55m</span>,\n",
       " <span class=\"sc-4b408797-8 iurwGb dli-title-metadata-item\">R</span>,\n",
       " <span class=\"sc-4b408797-8 iurwGb dli-title-metadata-item\">2022</span>,\n",
       " <span class=\"sc-4b408797-8 iurwGb dli-title-metadata-item\">2h 10m</span>,\n",
       " <span class=\"sc-4b408797-8 iurwGb dli-title-metadata-item\">PG-13</span>,\n",
       " <span class=\"sc-4b408797-8 iurwGb dli-title-metadata-item\">2000</span>,\n",
       " <span class=\"sc-4b408797-8 iurwGb dli-title-metadata-item\">2h 35m</span>,\n",
       " <span class=\"sc-4b408797-8 iurwGb dli-title-metadata-item\">R</span>,\n",
       " <span class=\"sc-4b408797-8 iurwGb dli-title-metadata-item\">2023</span>,\n",
       " <span class=\"sc-4b408797-8 iurwGb dli-title-metadata-item\">3h</span>,\n",
       " <span class=\"sc-4b408797-8 iurwGb dli-title-metadata-item\">R</span>,\n",
       " <span class=\"sc-4b408797-8 iurwGb dli-title-metadata-item\">1994</span>,\n",
       " <span class=\"sc-4b408797-8 iurwGb dli-title-metadata-item\">2h 34m</span>,\n",
       " <span class=\"sc-4b408797-8 iurwGb dli-title-metadata-item\">R</span>,\n",
       " <span class=\"sc-4b408797-8 iurwGb dli-title-metadata-item\">2009</span>,\n",
       " <span class=\"sc-4b408797-8 iurwGb dli-title-metadata-item\">2h 33m</span>,\n",
       " <span class=\"sc-4b408797-8 iurwGb dli-title-metadata-item\">R</span>,\n",
       " <span class=\"sc-4b408797-8 iurwGb dli-title-metadata-item\">2001</span>,\n",
       " <span class=\"sc-4b408797-8 iurwGb dli-title-metadata-item\">2h 58m</span>,\n",
       " <span class=\"sc-4b408797-8 iurwGb dli-title-metadata-item\">PG-13</span>,\n",
       " <span class=\"sc-4b408797-8 iurwGb dli-title-metadata-item\">2024</span>,\n",
       " <span class=\"sc-4b408797-8 iurwGb dli-title-metadata-item\">2h 46m</span>,\n",
       " <span class=\"sc-4b408797-8 iurwGb dli-title-metadata-item\">PG-13</span>,\n",
       " <span class=\"sc-4b408797-8 iurwGb dli-title-metadata-item\">1990</span>,\n",
       " <span class=\"sc-4b408797-8 iurwGb dli-title-metadata-item\">2h 25m</span>,\n",
       " <span class=\"sc-4b408797-8 iurwGb dli-title-metadata-item\">R</span>,\n",
       " <span class=\"sc-4b408797-8 iurwGb dli-title-metadata-item\">1991</span>,\n",
       " <span class=\"sc-4b408797-8 iurwGb dli-title-metadata-item\">1h 58m</span>,\n",
       " <span class=\"sc-4b408797-8 iurwGb dli-title-metadata-item\">R</span>,\n",
       " <span class=\"sc-4b408797-8 iurwGb dli-title-metadata-item\">2013</span>,\n",
       " <span class=\"sc-4b408797-8 iurwGb dli-title-metadata-item\">3h</span>,\n",
       " <span class=\"sc-4b408797-8 iurwGb dli-title-metadata-item\">R</span>,\n",
       " <span class=\"sc-4b408797-8 iurwGb dli-title-metadata-item\">1993</span>,\n",
       " <span class=\"sc-4b408797-8 iurwGb dli-title-metadata-item\">3h 15m</span>,\n",
       " <span class=\"sc-4b408797-8 iurwGb dli-title-metadata-item\">R</span>,\n",
       " <span class=\"sc-4b408797-8 iurwGb dli-title-metadata-item\">2019</span>,\n",
       " <span class=\"sc-4b408797-8 iurwGb dli-title-metadata-item\">3h 1m</span>,\n",
       " <span class=\"sc-4b408797-8 iurwGb dli-title-metadata-item\">PG-13</span>,\n",
       " <span class=\"sc-4b408797-8 iurwGb dli-title-metadata-item\">1999</span>,\n",
       " <span class=\"sc-4b408797-8 iurwGb dli-title-metadata-item\">2h 19m</span>,\n",
       " <span class=\"sc-4b408797-8 iurwGb dli-title-metadata-item\">R</span>,\n",
       " <span class=\"sc-4b408797-8 iurwGb dli-title-metadata-item\">2024</span>,\n",
       " <span class=\"sc-4b408797-8 iurwGb dli-title-metadata-item\">1h 42m</span>,\n",
       " <span class=\"sc-4b408797-8 iurwGb dli-title-metadata-item\">PG</span>,\n",
       " <span class=\"sc-4b408797-8 iurwGb dli-title-metadata-item\">1995</span>,\n",
       " <span class=\"sc-4b408797-8 iurwGb dli-title-metadata-item\">2h 7m</span>,\n",
       " <span class=\"sc-4b408797-8 iurwGb dli-title-metadata-item\">R</span>,\n",
       " <span class=\"sc-4b408797-8 iurwGb dli-title-metadata-item\">2019</span>,\n",
       " <span class=\"sc-4b408797-8 iurwGb dli-title-metadata-item\">2h 12m</span>,\n",
       " <span class=\"sc-4b408797-8 iurwGb dli-title-metadata-item\">R</span>,\n",
       " <span class=\"sc-4b408797-8 iurwGb dli-title-metadata-item\">1985</span>,\n",
       " <span class=\"sc-4b408797-8 iurwGb dli-title-metadata-item\">1h 56m</span>,\n",
       " <span class=\"sc-4b408797-8 iurwGb dli-title-metadata-item\">PG</span>,\n",
       " <span class=\"sc-4b408797-8 iurwGb dli-title-metadata-item\">1980</span>,\n",
       " <span class=\"sc-4b408797-8 iurwGb dli-title-metadata-item\">2h 4m</span>,\n",
       " <span class=\"sc-4b408797-8 iurwGb dli-title-metadata-item\">PG</span>,\n",
       " <span class=\"sc-4b408797-8 iurwGb dli-title-metadata-item\">1998</span>,\n",
       " <span class=\"sc-4b408797-8 iurwGb dli-title-metadata-item\">1h 43m</span>,\n",
       " <span class=\"sc-4b408797-8 iurwGb dli-title-metadata-item\">PG</span>]"
      ]
     },
     "execution_count": 45,
     "metadata": {},
     "output_type": "execute_result"
    }
   ],
   "source": [
    "movie_year = soup.find_all('span', class_=\"sc-4b408797-8\")\n",
    "movie_year"
   ]
  },
  {
   "cell_type": "code",
   "execution_count": 46,
   "id": "4d1203ed-1c3a-445c-983d-154d945fa766",
   "metadata": {},
   "outputs": [],
   "source": [
    "yr = []\n",
    "du = []\n",
    "ct = []\n",
    "\n",
    "for mv in movie_year:\n",
    "    #strip each span \n",
    "    text = mv.get_text()\n",
    "\n",
    "    #identify the year (yr)\n",
    "    if text.isdigit() and len(text)== 4:\n",
    "        yr.append(text)\n",
    "\n",
    "    #identify movie duration (du)\n",
    "    elif 'h' in text or 'm' in text:\n",
    "        du.append(text)\n",
    "\n",
    "    #identify movie certification (ct)\n",
    "    else:\n",
    "        ct.append(text)"
   ]
  },
  {
   "cell_type": "code",
   "execution_count": 47,
   "id": "e78426d6-bce2-4d43-b20d-fb9e7b6833db",
   "metadata": {},
   "outputs": [
    {
     "data": {
      "text/plain": [
       "['1994',\n",
       " '1977',\n",
       " '2008',\n",
       " '2010',\n",
       " '2014',\n",
       " '1972',\n",
       " '2022',\n",
       " '2000',\n",
       " '2023',\n",
       " '1994',\n",
       " '2009',\n",
       " '2001',\n",
       " '2024',\n",
       " '1990',\n",
       " '1991',\n",
       " '2013',\n",
       " '1993',\n",
       " '2019',\n",
       " '1999',\n",
       " '2024',\n",
       " '1995',\n",
       " '2019',\n",
       " '1985',\n",
       " '1980',\n",
       " '1998']"
      ]
     },
     "execution_count": 47,
     "metadata": {},
     "output_type": "execute_result"
    }
   ],
   "source": [
    "yr"
   ]
  },
  {
   "cell_type": "code",
   "execution_count": 48,
   "id": "de13caa8-21ed-40a9-a5bd-2d66ca395ddb",
   "metadata": {},
   "outputs": [
    {
     "data": {
      "text/plain": [
       "['2h 22m',\n",
       " '2h 1m',\n",
       " '2h 32m',\n",
       " '2h 28m',\n",
       " '2h 49m',\n",
       " '2h 55m',\n",
       " '2h 10m',\n",
       " '2h 35m',\n",
       " '3h',\n",
       " '2h 34m',\n",
       " '2h 33m',\n",
       " '2h 58m',\n",
       " '2h 46m',\n",
       " '2h 25m',\n",
       " '1h 58m',\n",
       " '3h',\n",
       " '3h 15m',\n",
       " '3h 1m',\n",
       " '2h 19m',\n",
       " '1h 42m',\n",
       " '2h 7m',\n",
       " '2h 12m',\n",
       " '1h 56m',\n",
       " '2h 4m',\n",
       " '1h 43m']"
      ]
     },
     "execution_count": 48,
     "metadata": {},
     "output_type": "execute_result"
    }
   ],
   "source": [
    "du"
   ]
  },
  {
   "cell_type": "code",
   "execution_count": 49,
   "id": "1ba45b3b-7c12-48fe-a3b4-92ff3db97c44",
   "metadata": {},
   "outputs": [
    {
     "data": {
      "text/plain": [
       "['R',\n",
       " 'PG',\n",
       " 'PG-13',\n",
       " 'PG-13',\n",
       " 'PG-13',\n",
       " 'R',\n",
       " 'PG-13',\n",
       " 'R',\n",
       " 'R',\n",
       " 'R',\n",
       " 'R',\n",
       " 'PG-13',\n",
       " 'PG-13',\n",
       " 'R',\n",
       " 'R',\n",
       " 'R',\n",
       " 'R',\n",
       " 'PG-13',\n",
       " 'R',\n",
       " 'PG',\n",
       " 'R',\n",
       " 'R',\n",
       " 'PG',\n",
       " 'PG',\n",
       " 'PG']"
      ]
     },
     "execution_count": 49,
     "metadata": {},
     "output_type": "execute_result"
    }
   ],
   "source": [
    "ct"
   ]
  },
  {
   "cell_type": "code",
   "execution_count": 37,
   "id": "b88c626c-358b-44e2-9ff7-10e007435723",
   "metadata": {},
   "outputs": [
    {
     "data": {
      "text/plain": [
       "['1994',\n",
       " '2h 22m',\n",
       " 'R',\n",
       " '1977',\n",
       " '2h 1m',\n",
       " 'PG',\n",
       " '2008',\n",
       " '2h 32m',\n",
       " 'PG-13',\n",
       " '2010',\n",
       " '2h 28m',\n",
       " 'PG-13',\n",
       " '2014',\n",
       " '2h 49m',\n",
       " 'PG-13',\n",
       " '1972',\n",
       " '2h 55m',\n",
       " 'R',\n",
       " '2022',\n",
       " '2h 10m',\n",
       " 'PG-13',\n",
       " '2000',\n",
       " '2h 35m',\n",
       " 'R',\n",
       " '2023',\n",
       " '3h',\n",
       " 'R',\n",
       " '1994',\n",
       " '2h 34m',\n",
       " 'R',\n",
       " '2009',\n",
       " '2h 33m',\n",
       " 'R',\n",
       " '2001',\n",
       " '2h 58m',\n",
       " 'PG-13',\n",
       " '2024',\n",
       " '2h 46m',\n",
       " 'PG-13',\n",
       " '1990',\n",
       " '2h 25m',\n",
       " 'R',\n",
       " '1991',\n",
       " '1h 58m',\n",
       " 'R',\n",
       " '2013',\n",
       " '3h',\n",
       " 'R',\n",
       " '1993',\n",
       " '3h 15m',\n",
       " 'R',\n",
       " '2019',\n",
       " '3h 1m',\n",
       " 'PG-13',\n",
       " '1999',\n",
       " '2h 19m',\n",
       " 'R',\n",
       " '2024',\n",
       " '1h 42m',\n",
       " 'PG',\n",
       " '1995',\n",
       " '2h 7m',\n",
       " 'R',\n",
       " '2019',\n",
       " '2h 12m',\n",
       " 'R',\n",
       " '1985',\n",
       " '1h 56m',\n",
       " 'PG',\n",
       " '1980',\n",
       " '2h 4m',\n",
       " 'PG',\n",
       " '1998',\n",
       " '1h 43m',\n",
       " 'PG']"
      ]
     },
     "execution_count": 37,
     "metadata": {},
     "output_type": "execute_result"
    }
   ],
   "source": [
    "import re\n",
    "\n",
    "years = []\n",
    "for year in movie_year:\n",
    "    text = year.get_text(strip = True)\n",
    "    years.append(text)\n",
    "    \n",
    "years"
   ]
  },
  {
   "cell_type": "code",
   "execution_count": 38,
   "id": "f4ecf7c6-f542-4ade-a721-3de7447b1919",
   "metadata": {},
   "outputs": [
    {
     "name": "stdout",
     "output_type": "stream",
     "text": [
      "['1994', '1977', '2008', '2010', '2014', '1972', '2022', '2000', '2023', '1994', '2009', '2001', '2024', '1990', '1991', '2013', '1993', '2019', '1999', '2024', '1995', '2019', '1985', '1980', '1998']\n"
     ]
    }
   ],
   "source": [
    "movie_years = [item for item in years if re.fullmatch(r\"\\d{4}\", item)]\n",
    "\n",
    "print(movie_years)"
   ]
  },
  {
   "cell_type": "code",
   "execution_count": null,
   "id": "be48fe49-7dcb-446a-b4a6-c3af32913b4d",
   "metadata": {},
   "outputs": [],
   "source": [
    "MOVIE DURATION"
   ]
  },
  {
   "cell_type": "code",
   "execution_count": 40,
   "id": "8240ddde-d627-4bf9-b804-a4d5b8783dd8",
   "metadata": {
    "scrolled": true
   },
   "outputs": [
    {
     "data": {
      "text/plain": [
       "['1994',\n",
       " '2h 22m',\n",
       " 'R',\n",
       " '1977',\n",
       " '2h 1m',\n",
       " 'PG',\n",
       " '2008',\n",
       " '2h 32m',\n",
       " 'PG-13',\n",
       " '2010',\n",
       " '2h 28m',\n",
       " 'PG-13',\n",
       " '2014',\n",
       " '2h 49m',\n",
       " 'PG-13',\n",
       " '1972',\n",
       " '2h 55m',\n",
       " 'R',\n",
       " '2022',\n",
       " '2h 10m',\n",
       " 'PG-13',\n",
       " '2000',\n",
       " '2h 35m',\n",
       " 'R',\n",
       " '2023',\n",
       " '3h',\n",
       " 'R',\n",
       " '1994',\n",
       " '2h 34m',\n",
       " 'R',\n",
       " '2009',\n",
       " '2h 33m',\n",
       " 'R',\n",
       " '2001',\n",
       " '2h 58m',\n",
       " 'PG-13',\n",
       " '2024',\n",
       " '2h 46m',\n",
       " 'PG-13',\n",
       " '1990',\n",
       " '2h 25m',\n",
       " 'R',\n",
       " '1991',\n",
       " '1h 58m',\n",
       " 'R',\n",
       " '2013',\n",
       " '3h',\n",
       " 'R',\n",
       " '1993',\n",
       " '3h 15m',\n",
       " 'R',\n",
       " '2019',\n",
       " '3h 1m',\n",
       " 'PG-13',\n",
       " '1999',\n",
       " '2h 19m',\n",
       " 'R',\n",
       " '2024',\n",
       " '1h 42m',\n",
       " 'PG',\n",
       " '1995',\n",
       " '2h 7m',\n",
       " 'R',\n",
       " '2019',\n",
       " '2h 12m',\n",
       " 'R',\n",
       " '1985',\n",
       " '1h 56m',\n",
       " 'PG',\n",
       " '1980',\n",
       " '2h 4m',\n",
       " 'PG',\n",
       " '1998',\n",
       " '1h 43m',\n",
       " 'PG']"
      ]
     },
     "execution_count": 40,
     "metadata": {},
     "output_type": "execute_result"
    }
   ],
   "source": [
    "years"
   ]
  },
  {
   "cell_type": "code",
   "execution_count": 41,
   "id": "21b7f88f-3c76-4123-b440-1d28be83baad",
   "metadata": {},
   "outputs": [
    {
     "name": "stdout",
     "output_type": "stream",
     "text": [
      "['2h 22m', '2h 1m', '2h 32m', '2h 28m', '2h 49m', '2h 55m', '2h 10m', '2h 35m', '3h', '2h 34m', '2h 33m', '2h 58m', '2h 46m', '2h 25m', '1h 58m', '3h', '3h 15m', '3h 1m', '2h 19m', '1h 42m', '2h 7m', '2h 12m', '1h 56m', '2h 4m', '1h 43m']\n"
     ]
    }
   ],
   "source": [
    "durations = [item for item in years if re.fullmatch(r\"\\d+h(?: \\d+m)?\", item)]\n",
    "\n",
    "print(durations)"
   ]
  },
  {
   "cell_type": "code",
   "execution_count": null,
   "id": "377a6775-37f5-4708-947f-6d0cafad98b7",
   "metadata": {},
   "outputs": [],
   "source": [
    "MOVIE TYPE"
   ]
  },
  {
   "cell_type": "code",
   "execution_count": 42,
   "id": "701ba4b2-7414-4f94-abdf-cf5e29b63c3b",
   "metadata": {},
   "outputs": [
    {
     "data": {
      "text/plain": [
       "['1994',\n",
       " '2h 22m',\n",
       " 'R',\n",
       " '1977',\n",
       " '2h 1m',\n",
       " 'PG',\n",
       " '2008',\n",
       " '2h 32m',\n",
       " 'PG-13',\n",
       " '2010',\n",
       " '2h 28m',\n",
       " 'PG-13',\n",
       " '2014',\n",
       " '2h 49m',\n",
       " 'PG-13',\n",
       " '1972',\n",
       " '2h 55m',\n",
       " 'R',\n",
       " '2022',\n",
       " '2h 10m',\n",
       " 'PG-13',\n",
       " '2000',\n",
       " '2h 35m',\n",
       " 'R',\n",
       " '2023',\n",
       " '3h',\n",
       " 'R',\n",
       " '1994',\n",
       " '2h 34m',\n",
       " 'R',\n",
       " '2009',\n",
       " '2h 33m',\n",
       " 'R',\n",
       " '2001',\n",
       " '2h 58m',\n",
       " 'PG-13',\n",
       " '2024',\n",
       " '2h 46m',\n",
       " 'PG-13',\n",
       " '1990',\n",
       " '2h 25m',\n",
       " 'R',\n",
       " '1991',\n",
       " '1h 58m',\n",
       " 'R',\n",
       " '2013',\n",
       " '3h',\n",
       " 'R',\n",
       " '1993',\n",
       " '3h 15m',\n",
       " 'R',\n",
       " '2019',\n",
       " '3h 1m',\n",
       " 'PG-13',\n",
       " '1999',\n",
       " '2h 19m',\n",
       " 'R',\n",
       " '2024',\n",
       " '1h 42m',\n",
       " 'PG',\n",
       " '1995',\n",
       " '2h 7m',\n",
       " 'R',\n",
       " '2019',\n",
       " '2h 12m',\n",
       " 'R',\n",
       " '1985',\n",
       " '1h 56m',\n",
       " 'PG',\n",
       " '1980',\n",
       " '2h 4m',\n",
       " 'PG',\n",
       " '1998',\n",
       " '1h 43m',\n",
       " 'PG']"
      ]
     },
     "execution_count": 42,
     "metadata": {},
     "output_type": "execute_result"
    }
   ],
   "source": [
    "years"
   ]
  },
  {
   "cell_type": "code",
   "execution_count": 43,
   "id": "d60c81b1-ea74-4c64-9830-5422a58c5107",
   "metadata": {},
   "outputs": [
    {
     "name": "stdout",
     "output_type": "stream",
     "text": [
      "['R', 'PG', 'PG-13', 'PG-13', 'PG-13', 'R', 'PG-13', 'R', 'R', 'R', 'R', 'PG-13', 'PG-13', 'R', 'R', 'R', 'R', 'PG-13', 'R', 'PG', 'R', 'R', 'PG', 'PG', 'PG']\n"
     ]
    }
   ],
   "source": [
    "ratings = [item for item in years if re.fullmatch(r\"(PG|PG-13|R|G|NC-17)\", item)]\n",
    "\n",
    "print(ratings)"
   ]
  },
  {
   "cell_type": "code",
   "execution_count": null,
   "id": "cff012c0-d3e0-40c4-ae56-8e981e0bf2a0",
   "metadata": {},
   "outputs": [],
   "source": [
    "MOVIE TOGETHER"
   ]
  },
  {
   "cell_type": "code",
   "execution_count": 52,
   "id": "ab7ed56b-36c3-4c1d-8eda-981e905ae919",
   "metadata": {},
   "outputs": [
    {
     "name": "stdout",
     "output_type": "stream",
     "text": [
      "1. The Shawshank Redemption | Year: 1994 | Duration: 2h 22m | Rating: R\n",
      "2. Star Wars: Episode IV - A New Hope | Year: 1977 | Duration: 2h 1m | Rating: PG\n",
      "3. The Dark Knight | Year: 2008 | Duration: 2h 32m | Rating: PG-13\n",
      "4. Inception | Year: 2010 | Duration: 2h 28m | Rating: PG-13\n",
      "5. Interstellar | Year: 2014 | Duration: 2h 49m | Rating: PG-13\n",
      "6. The Godfather | Year: 1972 | Duration: 2h 55m | Rating: R\n",
      "7. Top Gun: Maverick | Year: 2022 | Duration: 2h 10m | Rating: PG-13\n",
      "8. Gladiator | Year: 2000 | Duration: 2h 35m | Rating: R\n",
      "9. Oppenheimer | Year: 2023 | Duration: 3h | Rating: R\n",
      "10. Pulp Fiction | Year: 1994 | Duration: 2h 34m | Rating: R\n",
      "11. Inglourious Basterds | Year: 2009 | Duration: 2h 33m | Rating: R\n",
      "12. The Lord of the Rings: The Fellowship of the Ring | Year: 2001 | Duration: 2h 58m | Rating: PG-13\n",
      "13. Dune: Part Two | Year: 2024 | Duration: 2h 46m | Rating: PG-13\n",
      "14. Goodfellas | Year: 1990 | Duration: 2h 25m | Rating: R\n",
      "15. The Silence of the Lambs | Year: 1991 | Duration: 1h 58m | Rating: R\n",
      "16. The Wolf of Wall Street | Year: 2013 | Duration: 3h | Rating: R\n",
      "17. Schindler's List | Year: 1993 | Duration: 3h 15m | Rating: R\n",
      "18. Avengers: Endgame | Year: 2019 | Duration: 3h 1m | Rating: PG-13\n",
      "19. Fight Club | Year: 1999 | Duration: 2h 19m | Rating: R\n",
      "20. The Wild Robot | Year: 2024 | Duration: 1h 42m | Rating: PG\n",
      "21. Se7en | Year: 1995 | Duration: 2h 7m | Rating: R\n",
      "22. Parasite | Year: 2019 | Duration: 2h 12m | Rating: R\n",
      "23. Back to the Future | Year: 1985 | Duration: 1h 56m | Rating: PG\n",
      "24. Star Wars: Episode V - The Empire Strikes Back | Year: 1980 | Duration: 2h 4m | Rating: PG\n",
      "25. The Truman Show | Year: 1998 | Duration: 1h 43m | Rating: PG\n"
     ]
    }
   ],
   "source": [
    "titles\n",
    "years\n",
    "\n",
    "movie_years = [item for item in years if re.fullmatch(r\"\\d{4}\", item)]\n",
    "durations = [item for item in years if re.fullmatch(r\"\\d+h(?: \\d+m)?\", item)]\n",
    "ratings = [item for item in years if re.fullmatch(r\"(PG|PG-13|R|G|NC-17)\", item)]\n",
    "\n",
    "movies = list(zip(titles, movie_years, durations, ratings))\n",
    "\n",
    "for movie in movies:\n",
    "    title, movie_year, duration, rating = movie\n",
    "    print(f\"{title} | Year: {movie_year} | Duration: {duration} | Rating: {rating}\")\n",
    "    "
   ]
  },
  {
   "cell_type": "code",
   "execution_count": null,
   "id": "a5ff6c11-5871-4990-bad8-2f4183ad5342",
   "metadata": {},
   "outputs": [],
   "source": [
    "<div class=\"ipc-html-content-inner-div\" role=\"presentation\">"
   ]
  },
  {
   "cell_type": "code",
   "execution_count": 60,
   "id": "9fc5391b-2774-48f8-925c-05acfb6f30d4",
   "metadata": {},
   "outputs": [
    {
     "data": {
      "text/plain": [
       "[<div class=\"ipc-html-content-inner-div\" role=\"presentation\">A banker convicted of uxoricide forms a friendship over a quarter century with a hardened convict, while maintaining his innocence and trying to remain hopeful through simple compassion.</div>,\n",
       " <div class=\"ipc-html-content-inner-div\" role=\"presentation\">Luke Skywalker joins forces with a Jedi Knight, a cocky pilot, a Wookiee and two droids to save the galaxy from the Empire's world-destroying battle station, while also attempting to rescue Princess Leia from the mysterious Darth Vader.</div>,\n",
       " <div class=\"ipc-html-content-inner-div\" role=\"presentation\">When a menace known as the Joker wreaks havoc and chaos on the people of Gotham, Batman, James Gordon and Harvey Dent must work together to put an end to the madness.</div>,\n",
       " <div class=\"ipc-html-content-inner-div\" role=\"presentation\">A thief who steals corporate secrets through the use of dream-sharing technology is given the inverse task of planting an idea into the mind of a C.E.O., but his tragic past may doom the project and his team to disaster.</div>,\n",
       " <div class=\"ipc-html-content-inner-div\" role=\"presentation\">When Earth becomes uninhabitable in the future, a farmer and ex-NASA pilot, Joseph Cooper, is tasked to pilot a spacecraft, along with a team of researchers, to find a new planet for humans.</div>,\n",
       " <div class=\"ipc-html-content-inner-div\" role=\"presentation\">The aging patriarch of an organized crime dynasty transfers control of his clandestine empire to his reluctant son.</div>,\n",
       " <div class=\"ipc-html-content-inner-div\" role=\"presentation\">The story involves Maverick confronting his past while training a group of younger Top Gun graduates, including the son of his deceased best friend, for a dangerous mission.</div>,\n",
       " <div class=\"ipc-html-content-inner-div\" role=\"presentation\">A former Roman General sets out to exact vengeance against the corrupt emperor who murdered his family and sent him into slavery.</div>,\n",
       " <div class=\"ipc-html-content-inner-div\" role=\"presentation\">A dramatization of the life story of J. Robert Oppenheimer, the physicist who had a large hand in the development of the atomic bombs that brought an end to World War II.</div>,\n",
       " <div class=\"ipc-html-content-inner-div\" role=\"presentation\">The lives of two mob hitmen, a boxer, a gangster and his wife, and a pair of diner bandits intertwine in four tales of violence and redemption.</div>,\n",
       " <div class=\"ipc-html-content-inner-div\" role=\"presentation\">In Nazi-occupied France during World War II, a plan to assassinate Nazi leaders by a group of Jewish U.S. soldiers coincides with a theatre owner's vengeful plans for the same.</div>,\n",
       " <div class=\"ipc-html-content-inner-div\" role=\"presentation\">A meek Hobbit from the Shire and eight companions set out on a journey to destroy the powerful One Ring and save Middle-earth from the Dark Lord Sauron.</div>,\n",
       " <div class=\"ipc-html-content-inner-div\" role=\"presentation\">Paul Atreides unites with the Fremen while on a warpath of revenge against the conspirators who destroyed his family. Facing a choice between the love of his life and the fate of the universe, he endeavors to prevent a terrible future.</div>,\n",
       " <div class=\"ipc-html-content-inner-div\" role=\"presentation\">The story of Henry Hill and his life in the mafia, covering his relationship with his wife Karen and his mob partners Jimmy Conway and Tommy DeVito.</div>,\n",
       " <div class=\"ipc-html-content-inner-div\" role=\"presentation\">A young F.B.I. cadet must receive the help of an incarcerated and manipulative cannibal killer to help catch another serial killer, a madman who skins his victims.</div>,\n",
       " <div class=\"ipc-html-content-inner-div\" role=\"presentation\">Based on the true story of Jordan Belfort, from his rise to a wealthy stock-broker living the high life to his fall involving crime, corruption and the federal government.</div>,\n",
       " <div class=\"ipc-html-content-inner-div\" role=\"presentation\">In German-occupied Poland during World War II, industrialist Oskar Schindler gradually becomes concerned for his Jewish workforce after witnessing their persecution by the Nazis.</div>,\n",
       " <div class=\"ipc-html-content-inner-div\" role=\"presentation\">After the devastating events of Avengers: Infinity War (2018), the universe is in ruins. With the help of remaining allies, the Avengers assemble once more in order to reverse Thanos' actions and restore balance to the universe.</div>,\n",
       " <div class=\"ipc-html-content-inner-div\" role=\"presentation\">An insomniac office worker and a devil-may-care soap maker form an underground fight club that evolves into much more.</div>,\n",
       " <div class=\"ipc-html-content-inner-div\" role=\"presentation\">After a shipwreck, an intelligent robot called Roz is stranded on an uninhabited island. To survive the harsh environment, Roz bonds with the island's animals and cares for an orphaned baby goose.</div>,\n",
       " <div class=\"ipc-html-content-inner-div\" role=\"presentation\">Two detectives, a rookie and a veteran, hunt a serial killer who uses the seven deadly sins as his motives.</div>,\n",
       " <div class=\"ipc-html-content-inner-div\" role=\"presentation\">Greed and class discrimination threaten the newly formed symbiotic relationship between the wealthy Park family and the destitute Kim clan.</div>,\n",
       " <div class=\"ipc-html-content-inner-div\" role=\"presentation\">Marty McFly, a 17-year-old high school student, is accidentally sent 30 years into the past in a time-traveling DeLorean invented by his close friend, the maverick scientist Doc Brown.</div>,\n",
       " <div class=\"ipc-html-content-inner-div\" role=\"presentation\">After the Empire overpowers the Rebel Alliance, Luke Skywalker begins training with Jedi Master Yoda, while Darth Vader and bounty hunter Boba Fett pursue his friends across the galaxy.</div>,\n",
       " <div class=\"ipc-html-content-inner-div\" role=\"presentation\">An insurance salesman begins to suspect that his whole life is actually some sort of reality TV show.</div>]"
      ]
     },
     "execution_count": 60,
     "metadata": {},
     "output_type": "execute_result"
    }
   ],
   "source": [
    "description = soup.find_all('div', class_=\"ipc-html-content-inner-div\")\n",
    "description"
   ]
  },
  {
   "cell_type": "code",
   "execution_count": 61,
   "id": "8d38d4da-b5f2-4f02-a1b1-6ce5659dedf3",
   "metadata": {},
   "outputs": [
    {
     "data": {
      "text/plain": [
       "['A banker convicted of uxoricide forms a friendship over a quarter century with a hardened convict, while maintaining his innocence and trying to remain hopeful through simple compassion.',\n",
       " \"Luke Skywalker joins forces with a Jedi Knight, a cocky pilot, a Wookiee and two droids to save the galaxy from the Empire's world-destroying battle station, while also attempting to rescue Princess Leia from the mysterious Darth Vader.\",\n",
       " 'When a menace known as the Joker wreaks havoc and chaos on the people of Gotham, Batman, James Gordon and Harvey Dent must work together to put an end to the madness.',\n",
       " 'A thief who steals corporate secrets through the use of dream-sharing technology is given the inverse task of planting an idea into the mind of a C.E.O., but his tragic past may doom the project and his team to disaster.',\n",
       " 'When Earth becomes uninhabitable in the future, a farmer and ex-NASA pilot, Joseph Cooper, is tasked to pilot a spacecraft, along with a team of researchers, to find a new planet for humans.',\n",
       " 'The aging patriarch of an organized crime dynasty transfers control of his clandestine empire to his reluctant son.',\n",
       " 'The story involves Maverick confronting his past while training a group of younger Top Gun graduates, including the son of his deceased best friend, for a dangerous mission.',\n",
       " 'A former Roman General sets out to exact vengeance against the corrupt emperor who murdered his family and sent him into slavery.',\n",
       " 'A dramatization of the life story of J. Robert Oppenheimer, the physicist who had a large hand in the development of the atomic bombs that brought an end to World War II.',\n",
       " 'The lives of two mob hitmen, a boxer, a gangster and his wife, and a pair of diner bandits intertwine in four tales of violence and redemption.',\n",
       " \"In Nazi-occupied France during World War II, a plan to assassinate Nazi leaders by a group of Jewish U.S. soldiers coincides with a theatre owner's vengeful plans for the same.\",\n",
       " 'A meek Hobbit from the Shire and eight companions set out on a journey to destroy the powerful One Ring and save Middle-earth from the Dark Lord Sauron.',\n",
       " 'Paul Atreides unites with the Fremen while on a warpath of revenge against the conspirators who destroyed his family. Facing a choice between the love of his life and the fate of the universe, he endeavors to prevent a terrible future.',\n",
       " 'The story of Henry Hill and his life in the mafia, covering his relationship with his wife Karen and his mob partners Jimmy Conway and Tommy DeVito.',\n",
       " 'A young F.B.I. cadet must receive the help of an incarcerated and manipulative cannibal killer to help catch another serial killer, a madman who skins his victims.',\n",
       " 'Based on the true story of Jordan Belfort, from his rise to a wealthy stock-broker living the high life to his fall involving crime, corruption and the federal government.',\n",
       " 'In German-occupied Poland during World War II, industrialist Oskar Schindler gradually becomes concerned for his Jewish workforce after witnessing their persecution by the Nazis.',\n",
       " \"After the devastating events of Avengers: Infinity War (2018), the universe is in ruins. With the help of remaining allies, the Avengers assemble once more in order to reverse Thanos' actions and restore balance to the universe.\",\n",
       " 'An insomniac office worker and a devil-may-care soap maker form an underground fight club that evolves into much more.',\n",
       " \"After a shipwreck, an intelligent robot called Roz is stranded on an uninhabited island. To survive the harsh environment, Roz bonds with the island's animals and cares for an orphaned baby goose.\",\n",
       " 'Two detectives, a rookie and a veteran, hunt a serial killer who uses the seven deadly sins as his motives.',\n",
       " 'Greed and class discrimination threaten the newly formed symbiotic relationship between the wealthy Park family and the destitute Kim clan.',\n",
       " 'Marty McFly, a 17-year-old high school student, is accidentally sent 30 years into the past in a time-traveling DeLorean invented by his close friend, the maverick scientist Doc Brown.',\n",
       " 'After the Empire overpowers the Rebel Alliance, Luke Skywalker begins training with Jedi Master Yoda, while Darth Vader and bounty hunter Boba Fett pursue his friends across the galaxy.',\n",
       " 'An insurance salesman begins to suspect that his whole life is actually some sort of reality TV show.']"
      ]
     },
     "execution_count": 61,
     "metadata": {},
     "output_type": "execute_result"
    }
   ],
   "source": [
    "description_s = []\n",
    "for descript in description:\n",
    "    text = descript.get_text(strip = True)\n",
    "    description_s.append(text)\n",
    "\n",
    "description_s"
   ]
  },
  {
   "cell_type": "code",
   "execution_count": 62,
   "id": "ab12443e-402e-436b-a83a-fbdc5a245861",
   "metadata": {},
   "outputs": [
    {
     "name": "stdout",
     "output_type": "stream",
     "text": [
      "1. A banker convicted of uxoricide forms a friendship over a quarter century with a hardened convict, while maintaining his innocence and trying to remain hopeful through simple compassion.\n",
      "2. Luke Skywalker joins forces with a Jedi Knight, a cocky pilot, a Wookiee and two droids to save the galaxy from the Empire's world-destroying battle station, while also attempting to rescue Princess Leia from the mysterious Darth Vader.\n",
      "3. When a menace known as the Joker wreaks havoc and chaos on the people of Gotham, Batman, James Gordon and Harvey Dent must work together to put an end to the madness.\n",
      "4. A thief who steals corporate secrets through the use of dream-sharing technology is given the inverse task of planting an idea into the mind of a C.E.O., but his tragic past may doom the project and his team to disaster.\n",
      "5. When Earth becomes uninhabitable in the future, a farmer and ex-NASA pilot, Joseph Cooper, is tasked to pilot a spacecraft, along with a team of researchers, to find a new planet for humans.\n",
      "6. The aging patriarch of an organized crime dynasty transfers control of his clandestine empire to his reluctant son.\n",
      "7. The story involves Maverick confronting his past while training a group of younger Top Gun graduates, including the son of his deceased best friend, for a dangerous mission.\n",
      "8. A former Roman General sets out to exact vengeance against the corrupt emperor who murdered his family and sent him into slavery.\n",
      "9. A dramatization of the life story of J. Robert Oppenheimer, the physicist who had a large hand in the development of the atomic bombs that brought an end to World War II.\n",
      "10. The lives of two mob hitmen, a boxer, a gangster and his wife, and a pair of diner bandits intertwine in four tales of violence and redemption.\n",
      "11. In Nazi-occupied France during World War II, a plan to assassinate Nazi leaders by a group of Jewish U.S. soldiers coincides with a theatre owner's vengeful plans for the same.\n",
      "12. A meek Hobbit from the Shire and eight companions set out on a journey to destroy the powerful One Ring and save Middle-earth from the Dark Lord Sauron.\n",
      "13. Paul Atreides unites with the Fremen while on a warpath of revenge against the conspirators who destroyed his family. Facing a choice between the love of his life and the fate of the universe, he endeavors to prevent a terrible future.\n",
      "14. The story of Henry Hill and his life in the mafia, covering his relationship with his wife Karen and his mob partners Jimmy Conway and Tommy DeVito.\n",
      "15. A young F.B.I. cadet must receive the help of an incarcerated and manipulative cannibal killer to help catch another serial killer, a madman who skins his victims.\n",
      "16. Based on the true story of Jordan Belfort, from his rise to a wealthy stock-broker living the high life to his fall involving crime, corruption and the federal government.\n",
      "17. In German-occupied Poland during World War II, industrialist Oskar Schindler gradually becomes concerned for his Jewish workforce after witnessing their persecution by the Nazis.\n",
      "18. After the devastating events of Avengers: Infinity War (2018), the universe is in ruins. With the help of remaining allies, the Avengers assemble once more in order to reverse Thanos' actions and restore balance to the universe.\n",
      "19. An insomniac office worker and a devil-may-care soap maker form an underground fight club that evolves into much more.\n",
      "20. After a shipwreck, an intelligent robot called Roz is stranded on an uninhabited island. To survive the harsh environment, Roz bonds with the island's animals and cares for an orphaned baby goose.\n",
      "21. Two detectives, a rookie and a veteran, hunt a serial killer who uses the seven deadly sins as his motives.\n",
      "22. Greed and class discrimination threaten the newly formed symbiotic relationship between the wealthy Park family and the destitute Kim clan.\n",
      "23. Marty McFly, a 17-year-old high school student, is accidentally sent 30 years into the past in a time-traveling DeLorean invented by his close friend, the maverick scientist Doc Brown.\n",
      "24. After the Empire overpowers the Rebel Alliance, Luke Skywalker begins training with Jedi Master Yoda, while Darth Vader and bounty hunter Boba Fett pursue his friends across the galaxy.\n",
      "25. An insurance salesman begins to suspect that his whole life is actually some sort of reality TV show.\n"
     ]
    }
   ],
   "source": [
    "for i, desc in enumerate(description_s, start=1):\n",
    "    print(f\"{i}. {desc}\")\n"
   ]
  },
  {
   "cell_type": "code",
   "execution_count": null,
   "id": "1b493abe-ec74-4c29-8419-b80a365b9093",
   "metadata": {},
   "outputs": [],
   "source": [
    "<span class=\"sc-ae9e80c5-0 gXcoKx metacritic-score-box\" style=\"background-color:#54A72A\">82</span>"
   ]
  },
  {
   "cell_type": "code",
   "execution_count": 63,
   "id": "2364cf17-0bc0-478d-8275-6177cd6d6738",
   "metadata": {},
   "outputs": [
    {
     "data": {
      "text/plain": [
       "[<span class=\"sc-ae9e80c5-0 gXcoKx metacritic-score-box\" style=\"background-color:#54A72A\">82</span>,\n",
       " <span class=\"sc-ae9e80c5-0 gXcoKx metacritic-score-box\" style=\"background-color:#54A72A\">90</span>,\n",
       " <span class=\"sc-ae9e80c5-0 gXcoKx metacritic-score-box\" style=\"background-color:#54A72A\">84</span>,\n",
       " <span class=\"sc-ae9e80c5-0 gXcoKx metacritic-score-box\" style=\"background-color:#54A72A\">74</span>,\n",
       " <span class=\"sc-ae9e80c5-0 gXcoKx metacritic-score-box\" style=\"background-color:#54A72A\">74</span>,\n",
       " <span class=\"sc-ae9e80c5-0 gXcoKx metacritic-score-box\" style=\"background-color:#54A72A\">100</span>,\n",
       " <span class=\"sc-ae9e80c5-0 gXcoKx metacritic-score-box\" style=\"background-color:#54A72A\">78</span>,\n",
       " <span class=\"sc-ae9e80c5-0 gXcoKx metacritic-score-box\" style=\"background-color:#54A72A\">67</span>,\n",
       " <span class=\"sc-ae9e80c5-0 gXcoKx metacritic-score-box\" style=\"background-color:#54A72A\">90</span>,\n",
       " <span class=\"sc-ae9e80c5-0 gXcoKx metacritic-score-box\" style=\"background-color:#54A72A\">95</span>,\n",
       " <span class=\"sc-ae9e80c5-0 gXcoKx metacritic-score-box\" style=\"background-color:#54A72A\">69</span>,\n",
       " <span class=\"sc-ae9e80c5-0 gXcoKx metacritic-score-box\" style=\"background-color:#54A72A\">92</span>,\n",
       " <span class=\"sc-ae9e80c5-0 gXcoKx metacritic-score-box\" style=\"background-color:#54A72A\">79</span>,\n",
       " <span class=\"sc-ae9e80c5-0 gXcoKx metacritic-score-box\" style=\"background-color:#54A72A\">92</span>,\n",
       " <span class=\"sc-ae9e80c5-0 gXcoKx metacritic-score-box\" style=\"background-color:#54A72A\">86</span>,\n",
       " <span class=\"sc-ae9e80c5-0 gXcoKx metacritic-score-box\" style=\"background-color:#54A72A\">75</span>,\n",
       " <span class=\"sc-ae9e80c5-0 gXcoKx metacritic-score-box\" style=\"background-color:#54A72A\">95</span>,\n",
       " <span class=\"sc-ae9e80c5-0 gXcoKx metacritic-score-box\" style=\"background-color:#54A72A\">78</span>,\n",
       " <span class=\"sc-ae9e80c5-0 gXcoKx metacritic-score-box\" style=\"background-color:#54A72A\">67</span>,\n",
       " <span class=\"sc-ae9e80c5-0 gXcoKx metacritic-score-box\" style=\"background-color:#54A72A\">85</span>,\n",
       " <span class=\"sc-ae9e80c5-0 gXcoKx metacritic-score-box\" style=\"background-color:#54A72A\">65</span>,\n",
       " <span class=\"sc-ae9e80c5-0 gXcoKx metacritic-score-box\" style=\"background-color:#54A72A\">97</span>,\n",
       " <span class=\"sc-ae9e80c5-0 gXcoKx metacritic-score-box\" style=\"background-color:#54A72A\">87</span>,\n",
       " <span class=\"sc-ae9e80c5-0 gXcoKx metacritic-score-box\" style=\"background-color:#54A72A\">82</span>,\n",
       " <span class=\"sc-ae9e80c5-0 gXcoKx metacritic-score-box\" style=\"background-color:#54A72A\">90</span>]"
      ]
     },
     "execution_count": 63,
     "metadata": {},
     "output_type": "execute_result"
    }
   ],
   "source": [
    "meta_score = soup.find_all('span', class_=\"sc-ae9e80c5-0 gXcoKx metacritic-score-box\" )\n",
    "meta_score"
   ]
  },
  {
   "cell_type": "code",
   "execution_count": 64,
   "id": "454d08d4-fece-472c-9cd3-5ac879fd73df",
   "metadata": {},
   "outputs": [
    {
     "data": {
      "text/plain": [
       "['82',\n",
       " '90',\n",
       " '84',\n",
       " '74',\n",
       " '74',\n",
       " '100',\n",
       " '78',\n",
       " '67',\n",
       " '90',\n",
       " '95',\n",
       " '69',\n",
       " '92',\n",
       " '79',\n",
       " '92',\n",
       " '86',\n",
       " '75',\n",
       " '95',\n",
       " '78',\n",
       " '67',\n",
       " '85',\n",
       " '65',\n",
       " '97',\n",
       " '87',\n",
       " '82',\n",
       " '90']"
      ]
     },
     "execution_count": 64,
     "metadata": {},
     "output_type": "execute_result"
    }
   ],
   "source": [
    "meta = []\n",
    "for met in meta_score:\n",
    "    text = met.get_text(strip = True)\n",
    "    meta.append(text)\n",
    "meta"
   ]
  },
  {
   "cell_type": "code",
   "execution_count": null,
   "id": "7a03da09-37f8-4d70-9b2e-96ba207f9b1c",
   "metadata": {},
   "outputs": [],
   "source": [
    "STORE SCRAPED DATA"
   ]
  },
  {
   "cell_type": "code",
   "execution_count": 50,
   "id": "e5145b79-968b-4bf8-b9e1-60b637125155",
   "metadata": {},
   "outputs": [],
   "source": [
    "data = pd.DataFrame()"
   ]
  },
  {
   "cell_type": "code",
   "execution_count": 77,
   "id": "081a85c8-ce58-470f-ba0c-3eeaa7034795",
   "metadata": {},
   "outputs": [],
   "source": [
    "data['Titles'] = titles\n",
    "data['Ranks'] = ranks\n",
    "data['Release_year'] = yr\n",
    "data['Vote_Counts'] = counts\n",
    "data['Duration'] = du\n",
    "data['Certifications'] = ct\n",
    "data['Description'] = description_s\n",
    "data['Meta_Score'] = meta\n",
    "data['Ratings'] = over_ratings\n"
   ]
  },
  {
   "cell_type": "code",
   "execution_count": 78,
   "id": "693573d8-7cbf-4bb1-a877-7214bc2c1228",
   "metadata": {},
   "outputs": [
    {
     "data": {
      "text/html": [
       "<div>\n",
       "<style scoped>\n",
       "    .dataframe tbody tr th:only-of-type {\n",
       "        vertical-align: middle;\n",
       "    }\n",
       "\n",
       "    .dataframe tbody tr th {\n",
       "        vertical-align: top;\n",
       "    }\n",
       "\n",
       "    .dataframe thead th {\n",
       "        text-align: right;\n",
       "    }\n",
       "</style>\n",
       "<table border=\"1\" class=\"dataframe\">\n",
       "  <thead>\n",
       "    <tr style=\"text-align: right;\">\n",
       "      <th></th>\n",
       "      <th>Titles</th>\n",
       "      <th>Ranks</th>\n",
       "      <th>Release_year</th>\n",
       "      <th>Vote_Counts</th>\n",
       "      <th>Duration</th>\n",
       "      <th>Certifications</th>\n",
       "      <th>Description</th>\n",
       "      <th>Meta_Score</th>\n",
       "      <th>Ratings</th>\n",
       "    </tr>\n",
       "  </thead>\n",
       "  <tbody>\n",
       "    <tr>\n",
       "      <th>0</th>\n",
       "      <td>The Shawshank Redemption</td>\n",
       "      <td>1</td>\n",
       "      <td>1994</td>\n",
       "      <td>(3M)</td>\n",
       "      <td>2h 22m</td>\n",
       "      <td>R</td>\n",
       "      <td>A banker convicted of uxoricide forms a friend...</td>\n",
       "      <td>82</td>\n",
       "      <td>9.3</td>\n",
       "    </tr>\n",
       "    <tr>\n",
       "      <th>1</th>\n",
       "      <td>Star Wars: Episode IV - A New Hope</td>\n",
       "      <td>2</td>\n",
       "      <td>1977</td>\n",
       "      <td>(1.5M)</td>\n",
       "      <td>2h 1m</td>\n",
       "      <td>PG</td>\n",
       "      <td>Luke Skywalker joins forces with a Jedi Knight...</td>\n",
       "      <td>90</td>\n",
       "      <td>8.6</td>\n",
       "    </tr>\n",
       "    <tr>\n",
       "      <th>2</th>\n",
       "      <td>The Dark Knight</td>\n",
       "      <td>3</td>\n",
       "      <td>2008</td>\n",
       "      <td>(3M)</td>\n",
       "      <td>2h 32m</td>\n",
       "      <td>PG-13</td>\n",
       "      <td>When a menace known as the Joker wreaks havoc ...</td>\n",
       "      <td>84</td>\n",
       "      <td>9.0</td>\n",
       "    </tr>\n",
       "    <tr>\n",
       "      <th>3</th>\n",
       "      <td>Inception</td>\n",
       "      <td>4</td>\n",
       "      <td>2010</td>\n",
       "      <td>(2.7M)</td>\n",
       "      <td>2h 28m</td>\n",
       "      <td>PG-13</td>\n",
       "      <td>A thief who steals corporate secrets through t...</td>\n",
       "      <td>74</td>\n",
       "      <td>8.8</td>\n",
       "    </tr>\n",
       "    <tr>\n",
       "      <th>4</th>\n",
       "      <td>Interstellar</td>\n",
       "      <td>5</td>\n",
       "      <td>2014</td>\n",
       "      <td>(2.3M)</td>\n",
       "      <td>2h 49m</td>\n",
       "      <td>PG-13</td>\n",
       "      <td>When Earth becomes uninhabitable in the future...</td>\n",
       "      <td>74</td>\n",
       "      <td>8.7</td>\n",
       "    </tr>\n",
       "  </tbody>\n",
       "</table>\n",
       "</div>"
      ],
      "text/plain": [
       "                               Titles  Ranks Release_year Vote_Counts  \\\n",
       "0            The Shawshank Redemption      1         1994        (3M)   \n",
       "1  Star Wars: Episode IV - A New Hope      2         1977      (1.5M)   \n",
       "2                     The Dark Knight      3         2008        (3M)   \n",
       "3                           Inception      4         2010      (2.7M)   \n",
       "4                        Interstellar      5         2014      (2.3M)   \n",
       "\n",
       "  Duration Certifications                                        Description  \\\n",
       "0   2h 22m              R  A banker convicted of uxoricide forms a friend...   \n",
       "1    2h 1m             PG  Luke Skywalker joins forces with a Jedi Knight...   \n",
       "2   2h 32m          PG-13  When a menace known as the Joker wreaks havoc ...   \n",
       "3   2h 28m          PG-13  A thief who steals corporate secrets through t...   \n",
       "4   2h 49m          PG-13  When Earth becomes uninhabitable in the future...   \n",
       "\n",
       "  Meta_Score Ratings  \n",
       "0         82     9.3  \n",
       "1         90     8.6  \n",
       "2         84     9.0  \n",
       "3         74     8.8  \n",
       "4         74     8.7  "
      ]
     },
     "execution_count": 78,
     "metadata": {},
     "output_type": "execute_result"
    }
   ],
   "source": [
    "data.head()"
   ]
  },
  {
   "cell_type": "code",
   "execution_count": 79,
   "id": "e796a671-6eb6-4447-9101-68cbc2823a15",
   "metadata": {},
   "outputs": [
    {
     "data": {
      "text/plain": [
       "(25, 9)"
      ]
     },
     "execution_count": 79,
     "metadata": {},
     "output_type": "execute_result"
    }
   ],
   "source": [
    "data.shape"
   ]
  },
  {
   "cell_type": "code",
   "execution_count": 80,
   "id": "85a1271d-fa18-4fe7-98f7-a748397dbe1c",
   "metadata": {},
   "outputs": [
    {
     "data": {
      "text/html": [
       "<div>\n",
       "<style scoped>\n",
       "    .dataframe tbody tr th:only-of-type {\n",
       "        vertical-align: middle;\n",
       "    }\n",
       "\n",
       "    .dataframe tbody tr th {\n",
       "        vertical-align: top;\n",
       "    }\n",
       "\n",
       "    .dataframe thead th {\n",
       "        text-align: right;\n",
       "    }\n",
       "</style>\n",
       "<table border=\"1\" class=\"dataframe\">\n",
       "  <thead>\n",
       "    <tr style=\"text-align: right;\">\n",
       "      <th></th>\n",
       "      <th>Titles</th>\n",
       "      <th>Ranks</th>\n",
       "      <th>Release_year</th>\n",
       "      <th>Vote_Counts</th>\n",
       "      <th>Duration</th>\n",
       "      <th>Certifications</th>\n",
       "      <th>Description</th>\n",
       "      <th>Meta_Score</th>\n",
       "      <th>Ratings</th>\n",
       "    </tr>\n",
       "  </thead>\n",
       "  <tbody>\n",
       "    <tr>\n",
       "      <th>20</th>\n",
       "      <td>Se7en</td>\n",
       "      <td>21</td>\n",
       "      <td>1995</td>\n",
       "      <td>(1.9M)</td>\n",
       "      <td>2h 7m</td>\n",
       "      <td>R</td>\n",
       "      <td>Two detectives, a rookie and a veteran, hunt a...</td>\n",
       "      <td>65</td>\n",
       "      <td>8.6</td>\n",
       "    </tr>\n",
       "    <tr>\n",
       "      <th>21</th>\n",
       "      <td>Parasite</td>\n",
       "      <td>22</td>\n",
       "      <td>2019</td>\n",
       "      <td>(1.1M)</td>\n",
       "      <td>2h 12m</td>\n",
       "      <td>R</td>\n",
       "      <td>Greed and class discrimination threaten the ne...</td>\n",
       "      <td>97</td>\n",
       "      <td>8.5</td>\n",
       "    </tr>\n",
       "    <tr>\n",
       "      <th>22</th>\n",
       "      <td>Back to the Future</td>\n",
       "      <td>23</td>\n",
       "      <td>1985</td>\n",
       "      <td>(1.4M)</td>\n",
       "      <td>1h 56m</td>\n",
       "      <td>PG</td>\n",
       "      <td>Marty McFly, a 17-year-old high school student...</td>\n",
       "      <td>87</td>\n",
       "      <td>8.5</td>\n",
       "    </tr>\n",
       "    <tr>\n",
       "      <th>23</th>\n",
       "      <td>Star Wars: Episode V - The Empire Strikes Back</td>\n",
       "      <td>24</td>\n",
       "      <td>1980</td>\n",
       "      <td>(1.4M)</td>\n",
       "      <td>2h 4m</td>\n",
       "      <td>PG</td>\n",
       "      <td>After the Empire overpowers the Rebel Alliance...</td>\n",
       "      <td>82</td>\n",
       "      <td>8.7</td>\n",
       "    </tr>\n",
       "    <tr>\n",
       "      <th>24</th>\n",
       "      <td>The Truman Show</td>\n",
       "      <td>25</td>\n",
       "      <td>1998</td>\n",
       "      <td>(1.3M)</td>\n",
       "      <td>1h 43m</td>\n",
       "      <td>PG</td>\n",
       "      <td>An insurance salesman begins to suspect that h...</td>\n",
       "      <td>90</td>\n",
       "      <td>8.2</td>\n",
       "    </tr>\n",
       "  </tbody>\n",
       "</table>\n",
       "</div>"
      ],
      "text/plain": [
       "                                            Titles  Ranks Release_year  \\\n",
       "20                                           Se7en     21         1995   \n",
       "21                                        Parasite     22         2019   \n",
       "22                              Back to the Future     23         1985   \n",
       "23  Star Wars: Episode V - The Empire Strikes Back     24         1980   \n",
       "24                                 The Truman Show     25         1998   \n",
       "\n",
       "   Vote_Counts Duration Certifications  \\\n",
       "20      (1.9M)    2h 7m              R   \n",
       "21      (1.1M)   2h 12m              R   \n",
       "22      (1.4M)   1h 56m             PG   \n",
       "23      (1.4M)    2h 4m             PG   \n",
       "24      (1.3M)   1h 43m             PG   \n",
       "\n",
       "                                          Description Meta_Score Ratings  \n",
       "20  Two detectives, a rookie and a veteran, hunt a...         65     8.6  \n",
       "21  Greed and class discrimination threaten the ne...         97     8.5  \n",
       "22  Marty McFly, a 17-year-old high school student...         87     8.5  \n",
       "23  After the Empire overpowers the Rebel Alliance...         82     8.7  \n",
       "24  An insurance salesman begins to suspect that h...         90     8.2  "
      ]
     },
     "execution_count": 80,
     "metadata": {},
     "output_type": "execute_result"
    }
   ],
   "source": [
    "data.tail()"
   ]
  },
  {
   "cell_type": "code",
   "execution_count": 81,
   "id": "63693303-7be2-4bc2-87d7-5164b0a73a0e",
   "metadata": {},
   "outputs": [],
   "source": [
    "# export as csv file\n",
    "data.to_csv('top_25_idmb_movies.csv', index = False)"
   ]
  }
 ],
 "metadata": {
  "kernelspec": {
   "display_name": "Python 3 (ipykernel)",
   "language": "python",
   "name": "python3"
  },
  "language_info": {
   "codemirror_mode": {
    "name": "ipython",
    "version": 3
   },
   "file_extension": ".py",
   "mimetype": "text/x-python",
   "name": "python",
   "nbconvert_exporter": "python",
   "pygments_lexer": "ipython3",
   "version": "3.12.7"
  }
 },
 "nbformat": 4,
 "nbformat_minor": 5
}
